{
 "cells": [
  {
   "cell_type": "code",
   "execution_count": null,
   "metadata": {},
   "outputs": [],
   "source": [
    "%load_ext autoreload\n"
   ]
  },
  {
   "cell_type": "code",
   "execution_count": 41,
   "metadata": {},
   "outputs": [],
   "source": [
    "from random import random, randint\n",
    "import numpy as np\n",
    "from copy import deepcopy"
   ]
  },
  {
   "cell_type": "code",
   "execution_count": 8,
   "metadata": {},
   "outputs": [
    {
     "data": {
      "text/plain": [
       "5"
      ]
     },
     "execution_count": 8,
     "metadata": {},
     "output_type": "execute_result"
    }
   ],
   "source": [
    "a=2\n",
    "b=3\n",
    "2+3"
   ]
  },
  {
   "cell_type": "code",
   "execution_count": 1,
   "metadata": {},
   "outputs": [],
   "source": [
    "etapa_dif = []\n",
    "for i in range(1,32):\n",
    "    etapa_dif.append(10*i)\n",
    "personagem_agilidade = [1.8, 1.6, 1.6, 1.6, 1.4, 0.9, 0.7]\n"
   ]
  },
  {
   "cell_type": "code",
   "execution_count": 3,
   "metadata": {},
   "outputs": [
    {
     "data": {
      "text/plain": [
       "31"
      ]
     },
     "execution_count": 3,
     "metadata": {},
     "output_type": "execute_result"
    }
   ],
   "source": [
    "len(etapa_dif)"
   ]
  },
  {
   "cell_type": "code",
   "execution_count": 109,
   "metadata": {},
   "outputs": [],
   "source": [
    "import numpy as np\n",
    "from random import random, randint, randrange, choices\n",
    "\n",
    "NUM_LINES = 31\n",
    "NUM_COLUMNS = 7\n",
    "ENERGY = 8\n",
    "MAX_POPULATION = 2000\n",
    "etapa_dif = []\n",
    "for i in range(1,32):\n",
    "    etapa_dif.append(10*i)\n",
    "personagem_agilidade = [1.8, 1.6, 1.6, 1.6, 1.4, 0.9, 0.7]\n",
    "\n",
    "def checa_vazio(m):    \n",
    "    for i in range(len(m)):\n",
    "        sum = m[i].sum()\n",
    "        if sum == 0:\n",
    "            return i\n",
    "    return -1\n",
    "\n",
    "def garante_vivo(m):\n",
    "    if m.sum() < NUM_COLUMNS*ENERGY:\n",
    "        return m\n",
    "    # muda uma vida pois máximo possivel por construção é NUM_COLUMNS*ENERGY\n",
    "    i = randint(0, NUM_LINES - 1)\n",
    "    while m[i].sum() < 2:\n",
    "        i = randint(0, NUM_LINES - 1)\n",
    "    j = randint(0, NUM_COLUMNS - 1)\n",
    "    while m[i][j] == 0:\n",
    "        j = randint(0, NUM_COLUMNS - 1)\n",
    "    m[i][j] = 0\n",
    "    return m\n",
    "\n",
    "def checa_vivo(m):\n",
    "    if m.sum() < NUM_COLUMNS*ENERGY:\n",
    "        return -1\n",
    "    return 0\n",
    "\n",
    "# talvez usar garante_vivo\n",
    "def cria_novo_matrix():\n",
    "    m=np.zeros((NUM_LINES, NUM_COLUMNS))\n",
    "    vivo = randint(0, NUM_COLUMNS-1)\n",
    "    for i in range(NUM_COLUMNS):\n",
    "      ltot = 0\n",
    "      if i == vivo:\n",
    "          ltot = 1 ## i irá sobreviver\n",
    "      while ltot < ENERGY:\n",
    "         n = randint(0, NUM_LINES - 1)\n",
    "         if m[n][i] != 1:\n",
    "               m[n][i] = 1\n",
    "               ltot += 1\n",
    "    index = checa_vazio(m)\n",
    "    while index != -1:\n",
    "        n = randint(0, NUM_COLUMNS - 1)\n",
    "        m[index][n] = 1\n",
    "        ## atualizar matrix pois agora tem mais de k 1's na coluna\n",
    "        k = randint(0, NUM_LINES - 1)\n",
    "        while m[k][n]== 0:\n",
    "            k = randint(0, NUM_LINES - 1)\n",
    "        m[k][n] = 0\n",
    "        index = checa_vazio(m)\n",
    "    return m \n",
    "\n",
    "def custo_tempo(matrix_genetica):\n",
    "    matrix = np.divide(etapa_dif, np.matmul(matrix_genetica, personagem_agilidade))\n",
    "    return np.sum(matrix) # returna tempo total de todas etapas\n",
    "\n",
    "def busca(p, lista): # returna indice i em que lista[i-1] < p < lista[i]\n",
    "\tlow = 0\n",
    "\thigh = len(lista) - 1\n",
    "\twhile low <= high:\n",
    "\t\tmiddle = low + (high - low) // 2\n",
    "\t\tif lista[middle] >= p and lista[middle-1] < p: # lista[middle-1] < p <= lista[middle]\n",
    "\t\t\treturn middle\n",
    "\t\telif lista[middle] <= p:\n",
    "\t\t\tlow = middle + 1 \n",
    "\t\telse:\n",
    "\t\t\thigh = middle - 1\n",
    "\treturn 0\n",
    "\n",
    "def random_selection(population):\n",
    "    times = list()\n",
    "    for person in population:\n",
    "        times.append(person[1])\n",
    "    times = np.divide(1, times) \n",
    "    probs = np.divide(times, np.sum(times)) ## mais provavel, menor tempos\n",
    "    lista = []\n",
    "    psum = 0\n",
    "    n= len(probs)\n",
    "    for i in range(n):\n",
    "        psum += probs[i]\n",
    "        lista.append(psum)\n",
    "    p = random()\n",
    "    j = busca(p, lista)\n",
    "    return population[j] # (person, time)\n",
    "\n",
    "def random_selection_pair(population):\n",
    "    times = [float(population[i][1]) for i in range(len(population))]\n",
    "    times = np.divide(1, times) \n",
    "    return choices(population, weights=times, k=2)\n",
    "\n",
    "def best_individual(population):\n",
    "    print(population[0][0])\n",
    "    population.sort(key=lambda y: y[1]) #sort by time\n",
    "    best_time = population[0][1]\n",
    "    best_person = population[0][0]\n",
    "    return (best_time, best_person)\n",
    "\n",
    "def cria_prob(lista):\n",
    "    probs = np.divide(lista, np.sum(lista)) ## normaliza \n",
    "    lista_probs = []\n",
    "    psum = 0\n",
    "    for i in range(len(probs)):\n",
    "        psum += probs[i]\n",
    "        lista_probs.append(psum)\n",
    "    return lista_probs\n",
    "\n",
    "def die(population, max):\n",
    "    tam = len(population)\n",
    "    excess = tam - max\n",
    "    # tupla (child, time)\n",
    "    population.sort(key=lambda y: y[1]) ## ordena\n",
    "    times = [float(population[i][1]) for i in range(len(population))]\n",
    "    for i in range(1,excess+1):\n",
    "        lista_probs = cria_prob(times)\n",
    "        p = random()\n",
    "        j = busca(p, lista_probs)\n",
    "        while j < 10: # nao mata 10 primeiros\n",
    "            p = random()\n",
    "            j = busca(p, lista_probs)\n",
    "        population.pop(j)\n",
    "        times.pop(j)\n",
    "    # return population\n",
    "\n",
    "def die_optimal(population, max):\n",
    "    tam = len(population)\n",
    "    excess = tam - max\n",
    "    # tupla (child, time)\n",
    "    population.sort(key=lambda y: y[1]) ## ordena\n",
    "    times = [float(population[i][1]) for i in range(len(population))]\n",
    "    deaths = choices(population[10:], weights = times[10:], k = excess)\n",
    "    for i in range(1,excess+1):\n",
    "        lista_probs = cria_prob(times)\n",
    "        p = random()\n",
    "        j = busca(p, lista_probs)\n",
    "        while j < 10: # nao mata 10 primeiros\n",
    "            p = random()\n",
    "            j = busca(p, lista_probs)\n",
    "        population.pop(j)\n",
    "        times.pop(j)\n",
    "\n",
    "def mutation(person, probability = 0.3):\n",
    "    if random() < probability:\n",
    "        kshift = randrange(NUM_LINES)\n",
    "        person = np.roll(person, NUM_COLUMNS*kshift)\n",
    "    return person\n",
    "\n",
    "def swap(person):\n",
    "    new_person = deepcopy(person)\n",
    "    p1 = randrange(NUM_COLUMNS)\n",
    "    p2 = p1\n",
    "    while p2 == p1:\n",
    "        p2 = randrange(NUM_COLUMNS)\n",
    "\n",
    "    for s1 in range(NUM_LINES):\n",
    "        for s2 in range(s1, NUM_LINES):\n",
    "            swaped = deepcopy(new_person[0])\n",
    "            swaped[s1][p1] = new_person[0][s1][p2]\n",
    "            swaped[s1][p2] = new_person[0][s1][p1]\n",
    "            swaped[s2][p2] = new_person[0][s2][p1]\n",
    "            swaped[s2][p1] = new_person[0][s2][p2]\n",
    "            if checa_vazio(swaped) == -1 and checa_vivo(swaped)==-1:\n",
    "                swaped = garante_vivo(swaped)\n",
    "                tempo_swaped = custo_tempo(swaped)\n",
    "                if tempo_swaped < new_person[1]:\n",
    "                    new_person = (swaped, tempo_swaped)\n",
    "    return new_person\n",
    "     \n",
    "def repetition(population, potential_child):\n",
    "    for child in population:\n",
    "        if np.array_equal(child[0], potential_child[0]):\n",
    "            return 1\n",
    "    return 0\n",
    "\n",
    "# mae  = matrix\n",
    "def reproduce(mae, pai):\n",
    "    childs = []\n",
    "    child1 = np.zeros((NUM_LINES, NUM_COLUMNS))\n",
    "    child2 = np.zeros((NUM_LINES, NUM_COLUMNS))\n",
    "    for i in range (NUM_COLUMNS):\n",
    "        if randint(0,1):\n",
    "           child1[:, i] = mae[:, i]\n",
    "           child2[:, i] = pai[:, i]\n",
    "        else:\n",
    "            child1[:, i] = pai[:, i]\n",
    "            child2[:, i] = mae[:, i]\n",
    "    if checa_vazio(child1) == -1:\n",
    "        child1 = garante_vivo(child1)\n",
    "        childs.append(child1)\n",
    "        if checa_vazio(child2) == -1:\n",
    "            child2 = garante_vivo(child2)\n",
    "            childs.append(child2)\n",
    "    elif checa_vazio(child2) == -1:\n",
    "        child2 = garante_vivo(child2)\n",
    "        childs.append(child2)\n",
    "    else:\n",
    "        return reproduce(mae,pai)\n",
    "    return childs\n",
    "\n",
    "\n",
    "def genetic_algorithm(population): ## population: (persosn, time)\n",
    "    count_stop = 0\n",
    "    iter = 0\n",
    "    while count_stop < 1:\n",
    "        population.sort(key=lambda person: person[1]) #sort by time\n",
    "        best_time = population[0][1]\n",
    "        best_individual = population[0][0]\n",
    "\n",
    "        \n",
    "        print('iter', iter)\n",
    "        print('count_stop', count_stop)\n",
    "        new_population = population[0:500] #mantém melhores 500 habitantes ## chegou a 1923 em 4 min\n",
    "        #new_population = population\n",
    "        for i in range(len(population)//2):\n",
    "            parents = random_selection_pair(population) # [(person1, time1), (person2, time2)]\n",
    "            \n",
    "            childs = reproduce(parents[0][0], parents[1][0])\n",
    "            for child in childs:\n",
    "                child = mutation(child)        \n",
    "                if repetition(new_population, child) == 0:\n",
    "                    tempo_child = custo_tempo(child)\n",
    "                    new_population.append((child, tempo_child))\n",
    "\n",
    "\n",
    "        population = new_population\n",
    "        print('new pop', len(population))\n",
    "        if len(population) > MAX_POPULATION:\n",
    "            die(population, MAX_POPULATION)\n",
    "            print('new pop after massive deaths', len(population))\n",
    "        \n",
    "        population.sort(key=lambda person: person[1])\n",
    "        for i, genome in enumerate(population[0:2]): # Realiza o swap nas duas melhores soluções\n",
    "            swaped = swap(genome) \n",
    "            population[i] = swaped\n",
    "        population.sort(key=lambda person: person[1])\n",
    "        time = population[0][1]\n",
    "        individual = population[0][1]\n",
    "        if time < best_time:\n",
    "            best_time = time\n",
    "            best_individual = individual\n",
    "            count_stop = 0\n",
    "        \n",
    "        else:\n",
    "            count_stop += 1\n",
    "        print('time', time)\n",
    "        print('best_time', best_time)    \n",
    "    return best_individual\n",
    "\n",
    "def initial_population(n):\n",
    "    population = list()\n",
    "    count = 0\n",
    "    while count < n:\n",
    "        potential_person = cria_novo_matrix()\n",
    "        if repetition(population, potential_person) == 0:\n",
    "            tempo = custo_tempo(potential_person)\n",
    "            population.append((potential_person, tempo))\n",
    "            count +=1\n",
    "    return population"
   ]
  },
  {
   "cell_type": "code",
   "execution_count": null,
   "metadata": {},
   "outputs": [],
   "source": []
  },
  {
   "cell_type": "code",
   "execution_count": null,
   "metadata": {},
   "outputs": [],
   "source": []
  },
  {
   "cell_type": "code",
   "execution_count": 122,
   "metadata": {},
   "outputs": [],
   "source": [
    "import numpy as np\n",
    "from random import random, randint\n",
    "\n",
    "NUM_LINES = 5\n",
    "NUM_COLUMNS = 4\n",
    "ENERGY = 2\n",
    "\n",
    "etapa_dif = [10,20,50, 5,  30]\n",
    "personagem_agilidade = [1,2,3,4]\n",
    "potential_person = cria_novo_matrix()\n",
    "tempo = custo_tempo(potential_person)\n",
    "person = (potential_person, tempo)"
   ]
  },
  {
   "cell_type": "code",
   "execution_count": 110,
   "metadata": {},
   "outputs": [],
   "source": [
    "population = initial_population(500)"
   ]
  },
  {
   "cell_type": "code",
   "execution_count": 124,
   "metadata": {},
   "outputs": [
    {
     "data": {
      "text/plain": [
       "array([[0., 1., 1., 1.],\n",
       "       [0., 0., 1., 0.],\n",
       "       [1., 0., 0., 0.],\n",
       "       [1., 0., 0., 0.],\n",
       "       [0., 1., 0., 0.]])"
      ]
     },
     "execution_count": 124,
     "metadata": {},
     "output_type": "execute_result"
    }
   ],
   "source": [
    "person[0]"
   ]
  },
  {
   "cell_type": "code",
   "execution_count": 126,
   "metadata": {},
   "outputs": [
    {
     "data": {
      "text/plain": [
       "(array([[0., 1., 1., 1.],\n",
       "        [0., 0., 1., 0.],\n",
       "        [1., 0., 0., 0.],\n",
       "        [1., 0., 0., 0.],\n",
       "        [0., 1., 0., 0.]]),\n",
       " 77.77777777777777)"
      ]
     },
     "execution_count": 126,
     "metadata": {},
     "output_type": "execute_result"
    }
   ],
   "source": [
    "person"
   ]
  },
  {
   "cell_type": "code",
   "execution_count": 125,
   "metadata": {},
   "outputs": [
    {
     "data": {
      "text/plain": [
       "(array([[0., 1., 1., 1.],\n",
       "        [0., 0., 1., 0.],\n",
       "        [0., 1., 0., 0.],\n",
       "        [0., 1., 0., 0.],\n",
       "        [0., 1., 0., 0.]]),\n",
       " 50.27777777777778)"
      ]
     },
     "execution_count": 125,
     "metadata": {},
     "output_type": "execute_result"
    }
   ],
   "source": [
    "a = swap(person)\n",
    "a"
   ]
  },
  {
   "cell_type": "code",
   "execution_count": 128,
   "metadata": {},
   "outputs": [
    {
     "data": {
      "text/plain": [
       "7.0"
      ]
     },
     "execution_count": 128,
     "metadata": {},
     "output_type": "execute_result"
    }
   ],
   "source": [
    "a[0].sum()"
   ]
  },
  {
   "cell_type": "code",
   "execution_count": 129,
   "metadata": {},
   "outputs": [
    {
     "data": {
      "text/plain": [
       "7.0"
      ]
     },
     "execution_count": 129,
     "metadata": {},
     "output_type": "execute_result"
    }
   ],
   "source": [
    "person[0].sum()"
   ]
  },
  {
   "cell_type": "code",
   "execution_count": 119,
   "metadata": {},
   "outputs": [
    {
     "data": {
      "text/plain": [
       "5"
      ]
     },
     "execution_count": 119,
     "metadata": {},
     "output_type": "execute_result"
    }
   ],
   "source": [
    "NUM_LINES"
   ]
  },
  {
   "cell_type": "code",
   "execution_count": 111,
   "metadata": {},
   "outputs": [
    {
     "name": "stdout",
     "output_type": "stream",
     "text": [
      "iter 0\n",
      "count_stop 0\n",
      "new pop 834\n",
      "time 2131.901262526902\n",
      "best_time 2131.901262526902\n",
      "iter 0\n",
      "count_stop 0\n",
      "new pop 1033\n",
      "time 2085.8894454396204\n",
      "best_time 2085.8894454396204\n",
      "iter 0\n",
      "count_stop 0\n",
      "new pop 1152\n",
      "time 2083.37127812708\n",
      "best_time 2083.37127812708\n",
      "iter 0\n",
      "count_stop 0\n",
      "new pop 1246\n",
      "time 1694.7279931461296\n",
      "best_time 1694.7279931461296\n",
      "iter 0\n",
      "count_stop 0\n",
      "new pop 1274\n",
      "time 1694.7279931461296\n",
      "best_time 1694.7279931461296\n"
     ]
    }
   ],
   "source": [
    "ind = genetic_algorithm(population)"
   ]
  },
  {
   "cell_type": "code",
   "execution_count": 116,
   "metadata": {},
   "outputs": [
    {
     "ename": "IndexError",
     "evalue": "invalid index to scalar variable.",
     "output_type": "error",
     "traceback": [
      "\u001b[1;31m---------------------------------------------------------------------------\u001b[0m",
      "\u001b[1;31mIndexError\u001b[0m                                Traceback (most recent call last)",
      "\u001b[1;32m<ipython-input-116-153c369e587a>\u001b[0m in \u001b[0;36m<module>\u001b[1;34m\u001b[0m\n\u001b[1;32m----> 1\u001b[1;33m \u001b[0mswap\u001b[0m\u001b[1;33m(\u001b[0m\u001b[0mpotential_person\u001b[0m\u001b[1;33m)\u001b[0m\u001b[1;33m\u001b[0m\u001b[1;33m\u001b[0m\u001b[0m\n\u001b[0m",
      "\u001b[1;32m<ipython-input-109-8b3767eaeedf>\u001b[0m in \u001b[0;36mswap\u001b[1;34m(person)\u001b[0m\n\u001b[0;32m    165\u001b[0m         \u001b[1;32mfor\u001b[0m \u001b[0ms2\u001b[0m \u001b[1;32min\u001b[0m \u001b[0mrange\u001b[0m\u001b[1;33m(\u001b[0m\u001b[0ms1\u001b[0m\u001b[1;33m,\u001b[0m \u001b[0mNUM_LINES\u001b[0m\u001b[1;33m)\u001b[0m\u001b[1;33m:\u001b[0m\u001b[1;33m\u001b[0m\u001b[1;33m\u001b[0m\u001b[0m\n\u001b[0;32m    166\u001b[0m             \u001b[0mswaped\u001b[0m \u001b[1;33m=\u001b[0m \u001b[0mdeepcopy\u001b[0m\u001b[1;33m(\u001b[0m\u001b[0mnew_person\u001b[0m\u001b[1;33m[\u001b[0m\u001b[1;36m0\u001b[0m\u001b[1;33m]\u001b[0m\u001b[1;33m)\u001b[0m\u001b[1;33m\u001b[0m\u001b[1;33m\u001b[0m\u001b[0m\n\u001b[1;32m--> 167\u001b[1;33m             \u001b[0mswaped\u001b[0m\u001b[1;33m[\u001b[0m\u001b[0ms1\u001b[0m\u001b[1;33m]\u001b[0m\u001b[1;33m[\u001b[0m\u001b[0mp1\u001b[0m\u001b[1;33m]\u001b[0m \u001b[1;33m=\u001b[0m \u001b[0mnew_person\u001b[0m\u001b[1;33m[\u001b[0m\u001b[1;36m0\u001b[0m\u001b[1;33m]\u001b[0m\u001b[1;33m[\u001b[0m\u001b[0ms1\u001b[0m\u001b[1;33m]\u001b[0m\u001b[1;33m[\u001b[0m\u001b[0mp2\u001b[0m\u001b[1;33m]\u001b[0m\u001b[1;33m\u001b[0m\u001b[1;33m\u001b[0m\u001b[0m\n\u001b[0m\u001b[0;32m    168\u001b[0m             \u001b[0mswaped\u001b[0m\u001b[1;33m[\u001b[0m\u001b[0ms1\u001b[0m\u001b[1;33m]\u001b[0m\u001b[1;33m[\u001b[0m\u001b[0mp2\u001b[0m\u001b[1;33m]\u001b[0m \u001b[1;33m=\u001b[0m \u001b[0mnew_person\u001b[0m\u001b[1;33m[\u001b[0m\u001b[1;36m0\u001b[0m\u001b[1;33m]\u001b[0m\u001b[1;33m[\u001b[0m\u001b[0ms1\u001b[0m\u001b[1;33m]\u001b[0m\u001b[1;33m[\u001b[0m\u001b[0mp1\u001b[0m\u001b[1;33m]\u001b[0m\u001b[1;33m\u001b[0m\u001b[1;33m\u001b[0m\u001b[0m\n\u001b[0;32m    169\u001b[0m             \u001b[0mswaped\u001b[0m\u001b[1;33m[\u001b[0m\u001b[0ms2\u001b[0m\u001b[1;33m]\u001b[0m\u001b[1;33m[\u001b[0m\u001b[0mp2\u001b[0m\u001b[1;33m]\u001b[0m \u001b[1;33m=\u001b[0m \u001b[0mnew_person\u001b[0m\u001b[1;33m[\u001b[0m\u001b[1;36m0\u001b[0m\u001b[1;33m]\u001b[0m\u001b[1;33m[\u001b[0m\u001b[0ms2\u001b[0m\u001b[1;33m]\u001b[0m\u001b[1;33m[\u001b[0m\u001b[0mp1\u001b[0m\u001b[1;33m]\u001b[0m\u001b[1;33m\u001b[0m\u001b[1;33m\u001b[0m\u001b[0m\n",
      "\u001b[1;31mIndexError\u001b[0m: invalid index to scalar variable."
     ]
    }
   ],
   "source": [
    "swap(potential_person)"
   ]
  },
  {
   "cell_type": "code",
   "execution_count": 112,
   "metadata": {},
   "outputs": [
    {
     "data": {
      "text/plain": [
       "67.0"
      ]
     },
     "execution_count": 112,
     "metadata": {},
     "output_type": "execute_result"
    }
   ],
   "source": [
    "ind.sum()"
   ]
  },
  {
   "cell_type": "code",
   "execution_count": 64,
   "metadata": {},
   "outputs": [
    {
     "data": {
      "text/plain": [
       "3"
      ]
     },
     "execution_count": 64,
     "metadata": {},
     "output_type": "execute_result"
    }
   ],
   "source": [
    "randint(1,10)"
   ]
  },
  {
   "cell_type": "code",
   "execution_count": 6,
   "metadata": {},
   "outputs": [],
   "source": [
    "nlines = 31\n",
    "ncols = 7\n",
    "k = 8\n",
    "\n",
    "def cria_linha(ncols): #ncols = 7\n",
    "    l=[]\n",
    "    i=0\n",
    "    t=0\n",
    "    while i<ncols:\n",
    "        n=randint(0,1) # mudar probabilidade!!!!!!!! assim nao funciona\n",
    "        l.append(n)\n",
    "        t+=n\n",
    "        i+=1\n",
    "    if t:#checa se pelo menos um membro percorreu o percurso\n",
    "        return l\n",
    "    else:\n",
    "        return cria_linha(ncols)\n",
    "   \n",
    "#cria matriz [30][7]\n",
    "def cria_matriz(nlines, ncols): # nlines=30, ncols = 8\n",
    "    i=0\n",
    "    m=[]\n",
    "    while i<nlines:\n",
    "       m.append(cria_linha(ncols))\n",
    "       i+=1\n",
    "    return m\n",
    "\n",
    "\n",
    "def cria_novo_matrix(nlines, ncols, k):\n",
    "    m=np.zeros((nlines, ncols))\n",
    "    vivo = randint(0, ncols-1)\n",
    "    for i in range(ncols):\n",
    "      ltot = 0\n",
    "      if i == vivo:\n",
    "          ltot = 1 ## i irá sobreviver\n",
    "      while ltot < k:\n",
    "         n = randint(0,nlines-1)\n",
    "         if m[n][i] != 1:\n",
    "               m[n][i] = 1\n",
    "               ltot += 1\n",
    "    index = checa_vazio(*m)\n",
    "    while index != -1:\n",
    "        n = randint(0,ncols-1)\n",
    "        m[index][n] = 1\n",
    "        ## atualizar matrix pois agora tem mais de k 1's na coluna\n",
    "        k = randint(0, nlines-1)\n",
    "        while m[k][n]== 0:\n",
    "            k = randint(0, nlines-1)\n",
    "        m[k][n] = 0\n",
    "        index = checa_vazio(*m)\n",
    "    return m \n"
   ]
  },
  {
   "cell_type": "code",
   "execution_count": null,
   "metadata": {},
   "outputs": [],
   "source": [
    "nlines = 31\n",
    "ncols = 7\n",
    "k = 8\n",
    "#checa se alguem foi usado mais que k vezes\n",
    "#checa se alguem foi usado mais que k vezes\n",
    "def checa_k_vivo(*m):\n",
    "    alive = 0\n",
    "    for i in range(len(m[0])):\n",
    "        t=0\n",
    "        for j in range(len(m)):\n",
    "            t+=(m[j][i])\n",
    "            # j+=1z\n",
    "        alive += t\n",
    "        if t>k:\n",
    "            return i #retorna indice do que apareceu mais de k vezes\n",
    "    if alive >= k*len(m[0]):\n",
    "        return -2\n",
    "            \n",
    "        # i+=1\n",
    "    return -1\n",
    "\n",
    "\n",
    "def checa_vazio(m):    \n",
    "    for i in range(len(m)):\n",
    "        sum = m[i].sum()\n",
    "        if sum == 0:\n",
    "            return i\n",
    "    return -1\n",
    "    \n",
    "def bits(n):\n",
    "    bits = [] \n",
    "    while n > 0:\n",
    "        r = n%2\n",
    "        n = n//2\n",
    "        bits.append(r)\n",
    "    return bits\n",
    "\n",
    "# assume que soma resultado vai a no maximo n '1s\n",
    "def soma_bits(a,b, n ):\n",
    "    r = a+b\n",
    "    for i in range(n-1):\n",
    "        if r[i] == 2:\n",
    "            r[i] = 0\n",
    "            r[i+1] +=1\n",
    "    return r\n",
    "\n",
    "def reproduce1(x,y): \n",
    "    # x = (person, time)\n",
    "    tuplas = []\n",
    "    for line in range(nlines):\n",
    "        for col in range(ncols):\n",
    "            if x[0][line][col] != y[0][line][col]:\n",
    "                tuplas.append((line, col))\n",
    "    casas_sorteadas = []\n",
    "    n = min(5, len(tuplas))\n",
    "    for i in range(n):\n",
    "        num = randint(0, len(tuplas)-1)\n",
    "        casas_sorteadas.append(tuplas[num])\n",
    "        tuplas.pop(num)\n",
    "    childs = [x, y]\n",
    "    bits = np.zeros(n)\n",
    "    bits[0] = 1\n",
    "    m = deepcopy(x[0])\n",
    "    l = pow(2,n)\n",
    "    for i in range(l-1): ## criancas podem ser x e y\n",
    "        matrix = deepcopy(m)\n",
    "        for j in range(n):\n",
    "            # percorrer bits\n",
    "            if bits[j] == 1:\n",
    "                a = casas_sorteadas[j][0]\n",
    "                b = casas_sorteadas[j][1]\n",
    "                matrix[a][b] = y[0][a][b]\n",
    "        um = np.zeros(n)\n",
    "        um[0] = 1\n",
    "        bits = soma_bits(bits, um, n)\n",
    "        if checa_k_vivo(*matrix) == -1 and checa_vazio(*matrix) == -1:\n",
    "            time = custo_tempo(etapa_dif, personagem_agilidade, matrix)\n",
    "            childs.append((matrix, time))\n",
    "    return childs"
   ]
  },
  {
   "cell_type": "code",
   "execution_count": null,
   "metadata": {},
   "outputs": [],
   "source": [
    "\n",
    "etapa_dif = []\n",
    "for i in range(1,32):\n",
    "    etapa_dif.append(10*i)\n",
    "personagem_agilidade = [1.8, 1.6, 1.6, 1.6, 1.4, 0.9, 0.7]\n",
    "nlines = 31\n",
    "ncols = 7\n",
    "k = 8\n",
    "# custo do tempo a cada etapa: dificuldade/ agilidade na etapa\n",
    "def custo_tempo(etapa_dif, personagem_agilidade, matrix_genetica):\n",
    "    matrix = np.divide(etapa_dif, np.matmul(matrix_genetica, personagem_agilidade))\n",
    "    return np.sum(matrix)\n",
    "\n",
    "\n",
    "\n",
    "def busca(p, lista): # returna indice i em que lista[i-1] < p < lista[i]\n",
    "\tlow = 0\n",
    "\thigh = len(lista) - 1\n",
    "\twhile low <= high:\n",
    "\t\tmiddle = low + (high - low) // 2\n",
    "\t\tif lista[middle] >= p and lista[middle-1] < p: # lista[middle-1] < p <= lista[middle]\n",
    "\t\t\treturn middle\n",
    "\t\telif lista[middle] <= p:\n",
    "\t\t\tlow = middle + 1 \n",
    "\t\telse:\n",
    "\t\t\thigh = middle - 1\n",
    "\treturn 0\n",
    "\n",
    "def random_selection(population):\n",
    "    times = list()\n",
    "    for person in population:\n",
    "        times.append(person[1])\n",
    "    times = np.divide(1, times) \n",
    "    probs = np.divide(times, np.sum(times)) ## mais provavel, menor tempos\n",
    "    lista = []\n",
    "    psum = 0\n",
    "    n= len(probs)\n",
    "    for i in range(n):\n",
    "        psum += probs[i]\n",
    "        lista.append(psum)\n",
    "    p = random()\n",
    "    j = busca(p, lista)\n",
    "    return population[j] # (person, time)\n",
    "    \n",
    "def best_individual(population):\n",
    "    population.sort(key=lambda y: y[1]) #sort by time\n",
    "    best_time = population[0][1]\n",
    "    best_person = population[0][0]\n",
    "    return best_time, best_person\n",
    "\n",
    "def die(population, max):\n",
    "    tam = len(population)\n",
    "    excess = tam - max\n",
    "    # tupla (child, time)\n",
    "    population.sort(key=lambda y: y[1])\n",
    "    for i in range(1,excess+1):\n",
    "        population.pop(tam-i)\n",
    "    # return population\n",
    "\n",
    "def repetition(population, potential_child):\n",
    "    for child in population:\n",
    "        if np.array_equal(child[0], potential_child[0]):\n",
    "            return 1\n",
    "    return 0\n",
    "\n",
    "def genetic_algorithm(population): ## population list of matrices\n",
    "    best_time, fit_ind = best_individual(population)\n",
    "    print('best_time', best_time)\n",
    "    count = 0\n",
    "    while count < 50:\n",
    "    ## tamanho pop\n",
    "    # ideia tirar caras ruins\n",
    "        new_population = []\n",
    "        # evaluate best individual...\n",
    "        for i in range(200):\n",
    "            x = random_selection(population) # (person, time)\n",
    "            y = random_selection(population)\n",
    "            while np.array_equal(x[0],y[0]):\n",
    "                y = random_selection(population)\n",
    "            childs = reproduce1(x,y)\n",
    "            for child in childs:\n",
    "                if repetition(new_population, child) == 0:\n",
    "                    new_population.append(child)\n",
    "            # p = random()\n",
    "            # if (p < 0.01):\n",
    "            #     child = mutate(child)\n",
    "        population = new_population\n",
    "        print('new pop', len(population))\n",
    "        if len(population) > 3000:\n",
    "            die(population, 3000)\n",
    "            print('new pop after massive deaths', len(population))\n",
    "        \n",
    "        time, ind = best_individual(population)\n",
    "        if time < best_time:\n",
    "            best_time = time\n",
    "            fit_ind = ind\n",
    "            print('time', time)\n",
    "            print('best_time', best_time)\n",
    "        else:\n",
    "            count += 1\n",
    "            \n",
    "    return fit_ind"
   ]
  },
  {
   "cell_type": "code",
   "execution_count": null,
   "metadata": {},
   "outputs": [],
   "source": [
    "ENERGY = 2"
   ]
  },
  {
   "cell_type": "code",
   "execution_count": null,
   "metadata": {},
   "outputs": [],
   "source": [
    "def reproduce(mae, pai):\n",
    "    m = np.zeros((NUM_LINES, NUM_COLUMNS))\n",
    "    for i in range (NUM_COLUMNS):\n",
    "        if randint(0,1):\n",
    "           m[:, i]=mae[:, i]\n",
    "        else:\n",
    "            m[:, i]=pai[:, i]\n",
    "    if checa_vazio(m) != -1: \n",
    "        return reproduce(mae,pai)\n",
    "    m = garante_vivo(m)\n",
    "    return m"
   ]
  },
  {
   "cell_type": "code",
   "execution_count": null,
   "metadata": {},
   "outputs": [],
   "source": [
    "def garante_vivo(m):\n",
    "    if m.sum() < NUM_COLUMNS*ENERGY:\n",
    "        return m\n",
    "    # muda uma vida pois máximo possivel por construção é NUM_COLUMNS*ENERGY\n",
    "    i = randint(0, NUM_LINES - 1)\n",
    "    while m[i].sum() < 2:\n",
    "        i = randint(0, NUM_LINES - 1)\n",
    "    j = randint(0, NUM_COLUMNS - 1)\n",
    "    while m[i][j] == 0:\n",
    "        j = randint(0, NUM_COLUMNS - 1)\n",
    "    m[i][j] = 0\n",
    "    return m"
   ]
  },
  {
   "cell_type": "code",
   "execution_count": null,
   "metadata": {},
   "outputs": [],
   "source": [
    "population = list()\n",
    "count = 0\n",
    "while count < 100:\n",
    "    potential_person = cria_novo_matrix()\n",
    "    if repetition(population, potential_person) == 0:\n",
    "        tempo = custo_tempo(etapa_dif, personagem_agilidade, potential_person)\n",
    "        population.append((potential_person, tempo))\n",
    "        count +=1"
   ]
  },
  {
   "cell_type": "code",
   "execution_count": null,
   "metadata": {},
   "outputs": [],
   "source": [
    "len(population)"
   ]
  },
  {
   "cell_type": "code",
   "execution_count": null,
   "metadata": {},
   "outputs": [],
   "source": [
    "\n",
    "def cria_novo_matrix(k):\n",
    "    m=np.zeros((NUM_LINES, NUM_COLUMNS))\n",
    "    vivo = randint(0, NUM_COLUMNS-1)\n",
    "    for i in range(NUM_COLUMNS):\n",
    "      ltot = 0\n",
    "      if i == vivo:\n",
    "          ltot = 1 ## i irá sobreviver\n",
    "      while ltot < k:\n",
    "         n = randint(0, NUM_LINES - 1)\n",
    "         if m[n][i] != 1:\n",
    "               m[n][i] = 1\n",
    "               ltot += 1\n",
    "    index = checa_vazio(*m)\n",
    "    while index != -1:\n",
    "        n = randint(0, NUM_COLUMNS - 1)\n",
    "        m[index][n] = 1\n",
    "        ## atualizar matrix pois agora tem mais de k 1's na coluna\n",
    "        k = randint(0, NUM_LINES - 1)\n",
    "        while m[k][n]== 0:\n",
    "            k = randint(0, NUM_LINES - 1)\n",
    "        m[k][n] = 0\n",
    "        index = checa_vazio(*m)\n",
    "    return m "
   ]
  },
  {
   "cell_type": "code",
   "execution_count": 47,
   "metadata": {},
   "outputs": [],
   "source": [
    "NUM_LINES = 4\n",
    "NUM_COLUMNS = 3\n",
    "ENERGY = 2\n",
    "M = cria_novo_matrix()"
   ]
  },
  {
   "cell_type": "code",
   "execution_count": 48,
   "metadata": {},
   "outputs": [
    {
     "data": {
      "text/plain": [
       "array([[1., 0., 0.],\n",
       "       [0., 1., 0.],\n",
       "       [0., 0., 1.],\n",
       "       [1., 1., 0.]])"
      ]
     },
     "execution_count": 48,
     "metadata": {},
     "output_type": "execute_result"
    }
   ],
   "source": [
    "M"
   ]
  },
  {
   "cell_type": "code",
   "execution_count": 51,
   "metadata": {},
   "outputs": [
    {
     "data": {
      "text/plain": [
       "array([[1., 1., 0.],\n",
       "       [1., 0., 0.],\n",
       "       [0., 1., 0.],\n",
       "       [0., 0., 1.]])"
      ]
     },
     "execution_count": 51,
     "metadata": {},
     "output_type": "execute_result"
    }
   ],
   "source": [
    "np.roll(M,3)"
   ]
  },
  {
   "cell_type": "code",
   "execution_count": null,
   "metadata": {},
   "outputs": [],
   "source": [
    "lista = [1,2]\n",
    "lista2 = [3,2]\n",
    "lista2.append(lista)\n",
    "lista2"
   ]
  },
  {
   "cell_type": "code",
   "execution_count": 50,
   "metadata": {},
   "outputs": [
    {
     "data": {
      "text/plain": [
       "array([[1., 0., 0.],\n",
       "       [0., 1., 0.],\n",
       "       [0., 0., 1.],\n",
       "       [1., 1., 0.]])"
      ]
     },
     "execution_count": 50,
     "metadata": {},
     "output_type": "execute_result"
    }
   ],
   "source": [
    "M"
   ]
  },
  {
   "cell_type": "code",
   "execution_count": null,
   "metadata": {},
   "outputs": [],
   "source": [
    "genetic_algorithm(population)"
   ]
  },
  {
   "cell_type": "code",
   "execution_count": null,
   "metadata": {},
   "outputs": [],
   "source": [
    "time, ind = best_individual(population)"
   ]
  },
  {
   "cell_type": "code",
   "execution_count": null,
   "metadata": {},
   "outputs": [],
   "source": [
    "time"
   ]
  },
  {
   "cell_type": "code",
   "execution_count": null,
   "metadata": {},
   "outputs": [],
   "source": [
    "min(4,1)"
   ]
  },
  {
   "cell_type": "code",
   "execution_count": null,
   "metadata": {},
   "outputs": [],
   "source": [
    "x = population[0]\n",
    "y= population[1]"
   ]
  },
  {
   "cell_type": "code",
   "execution_count": null,
   "metadata": {},
   "outputs": [],
   "source": [
    "x"
   ]
  },
  {
   "cell_type": "code",
   "execution_count": null,
   "metadata": {},
   "outputs": [],
   "source": [
    "y"
   ]
  },
  {
   "cell_type": "code",
   "execution_count": null,
   "metadata": {},
   "outputs": [],
   "source": [
    "childs= reproduce1(x,y,2)"
   ]
  },
  {
   "cell_type": "code",
   "execution_count": null,
   "metadata": {},
   "outputs": [],
   "source": [
    "len(childs)"
   ]
  },
  {
   "cell_type": "code",
   "execution_count": null,
   "metadata": {},
   "outputs": [],
   "source": [
    "np.array_equal(childs[1], childs[2])"
   ]
  },
  {
   "cell_type": "code",
   "execution_count": null,
   "metadata": {},
   "outputs": [],
   "source": [
    "a = genetic_algorithm(population, 40)"
   ]
  },
  {
   "cell_type": "code",
   "execution_count": null,
   "metadata": {},
   "outputs": [],
   "source": [
    "from random import random"
   ]
  },
  {
   "cell_type": "code",
   "execution_count": null,
   "metadata": {},
   "outputs": [],
   "source": [
    "m = np.matrix([[0,1], [1,1], [0,0]])\n",
    "checa_vazio(*m)"
   ]
  },
  {
   "cell_type": "code",
   "execution_count": null,
   "metadata": {},
   "outputs": [],
   "source": [
    "def bits(n):\n",
    "    bits = [] \n",
    "    while n > 0:\n",
    "        r = n%2\n",
    "        n = n//2\n",
    "        bits.append(r)\n",
    "    return bits\n"
   ]
  },
  {
   "cell_type": "code",
   "execution_count": null,
   "metadata": {},
   "outputs": [],
   "source": [
    "bits(16)"
   ]
  },
  {
   "cell_type": "code",
   "execution_count": null,
   "metadata": {},
   "outputs": [],
   "source": [
    "def soma_bits(a,b, n ):\n",
    "    r = a+b\n",
    "    for i in range(n-1):\n",
    "        if r[i] == 2:\n",
    "            r[i] = 0\n",
    "            r[i+1] +=1\n",
    "    return r"
   ]
  }
 ],
 "metadata": {
  "interpreter": {
   "hash": "aee8b7b246df8f9039afb4144a1f6fd8d2ca17a180786b69acc140d282b71a49"
  },
  "kernelspec": {
   "display_name": "Python 3.7.2 64-bit",
   "language": "python",
   "name": "python3"
  },
  "language_info": {
   "codemirror_mode": {
    "name": "ipython",
    "version": 3
   },
   "file_extension": ".py",
   "mimetype": "text/x-python",
   "name": "python",
   "nbconvert_exporter": "python",
   "pygments_lexer": "ipython3",
   "version": "3.7.2"
  },
  "orig_nbformat": 4
 },
 "nbformat": 4,
 "nbformat_minor": 2
}
