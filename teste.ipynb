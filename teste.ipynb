{
 "cells": [
  {
   "cell_type": "code",
   "execution_count": 51,
   "metadata": {},
   "outputs": [],
   "source": [
    "%load_ext autoreload\n"
   ]
  },
  {
   "cell_type": "code",
   "execution_count": 79,
   "metadata": {},
   "outputs": [],
   "source": [
    "from random import random, randint\n",
    "import numpy as np"
   ]
  },
  {
   "cell_type": "code",
   "execution_count": 78,
   "metadata": {},
   "outputs": [],
   "source": []
  },
  {
   "cell_type": "code",
   "execution_count": 144,
   "metadata": {},
   "outputs": [],
   "source": [
    "nlines = 31\n",
    "ncols = 7\n",
    "k = 8\n",
    "def checa_vazio(*m):    \n",
    "    for i in range(len(m)):\n",
    "        sum = m[i].sum()\n",
    "        if sum == 0:\n",
    "            return i\n",
    "    return -1\n",
    "\n",
    "def cria_novo_matrix(nlines, ncols, k):\n",
    "    m=np.zeros((nlines, ncols))\n",
    "    for i in range(ncols):\n",
    "      ltot = 0\n",
    "      while ltot < k:\n",
    "         n = randint(0,nlines-1)\n",
    "         if m[n][i] != 1:\n",
    "               m[n][i] = 1\n",
    "               ltot += 1\n",
    "    index = checa_vazio(*m)\n",
    "    while index != -1:\n",
    "        n = randint(0,ncols-1)\n",
    "        m[index][n] = 1\n",
    "        s = -1\n",
    "        ## atualizar matrix pois agora tem mais de k 1's na coluna\n",
    "        k = randint(0, nlines-1)\n",
    "        while m[k][n]== 0:\n",
    "            k = randint(0, nlines-1)\n",
    "        m[k][n] = 0\n",
    "        index = checa_vazio(*m)\n",
    "    return m \n"
   ]
  },
  {
   "cell_type": "code",
   "execution_count": 172,
   "metadata": {},
   "outputs": [],
   "source": [
    "nlines = 31\n",
    "ncols = 7\n",
    "k = 8\n",
    "#checa se alguem foi usado mais que k vezes\n",
    "def checa_k(*m):\n",
    "    i=0\n",
    "    j=0\n",
    "    for i in range(len(m[0])):\n",
    "        t=0\n",
    "        for j in range(len(m)):\n",
    "            t+=m[j][i]\n",
    "            # j+=1\n",
    "        if t>k:\n",
    "            return i #retorna indice do que apareceu mais de k vezes\n",
    "        # i+=1\n",
    "    return -1\n",
    "\n",
    "def checa_vazio(*m):    \n",
    "    for i in range(len(m)):\n",
    "        sum = m[i].sum()\n",
    "        if sum == 0:\n",
    "            return i\n",
    "    return -1\n",
    "    \n",
    "def bits(n):\n",
    "    bits = [] \n",
    "    while n > 0:\n",
    "        r = n%2\n",
    "        n = n//2\n",
    "        bits.append(r)\n",
    "    return bits\n",
    "\n",
    "# assume que soma resultado vai a no maximo n '1s\n",
    "def soma_bits(a,b, n ):\n",
    "    r = a+b\n",
    "    for i in range(n-1):\n",
    "        if r[i] == 2:\n",
    "            r[i] = 0\n",
    "            r[i+1] +=1\n",
    "    return r\n",
    "\n",
    "def reproduce1(x,y): \n",
    "    tuplas = []\n",
    "    for line in range(nlines):\n",
    "        for col in range(ncols):\n",
    "            if x[line][col] != y[line][col]:\n",
    "                tuplas.append((line, col))\n",
    "\n",
    "    casas_sorteadas = []\n",
    "    n = min(4, len(tuplas))\n",
    "    for i in range(n):\n",
    "        num = randint(0, len(tuplas)-1)\n",
    "        casas_sorteadas.append(tuplas[num])\n",
    "        tuplas.pop(num)\n",
    "    \n",
    "    ## np.array\n",
    "    childs = [x, y]\n",
    "    bits = np.zeros(n)\n",
    "    bits[0] = 1\n",
    "    m = deepcopy(x)\n",
    "    l = pow(2,n)\n",
    "    for i in range(l-1): ## criancas podem ser x e y\n",
    "        matrix = deepcopy(m)\n",
    "        for j in range(n):\n",
    "            # percorrer bits\n",
    "            if bits[j] == 1:\n",
    "                a = casas_sorteadas[j][0]\n",
    "                b = casas_sorteadas[j][1]\n",
    "                matrix[a][b] = y[a][b]\n",
    "        um = np.zeros(n)\n",
    "        um[0] = 1\n",
    "        bits = soma_bits(bits, um, n)\n",
    "        if checa_k(*matrix) == -1 and checa_vazio(*matrix) == -1:\n",
    "            childs.append(matrix)\n",
    "    return childs"
   ]
  },
  {
   "cell_type": "code",
   "execution_count": 168,
   "metadata": {},
   "outputs": [],
   "source": [
    "\n",
    "etapa_dif = []\n",
    "for i in range(1,32):\n",
    "    etapa_dif.append(10*i)\n",
    "personagem_agilidade = [1.8, 1.6, 1.6, 1.6, 1.4, 0.9, 0.7]\n",
    "nlines = 31\n",
    "ncols = 7\n",
    "k = 8\n",
    "# custo do tempo a cada etapa: dificuldade/ agilidade na etapa\n",
    "def custo_tempo(etapa_dif, personagem_agilidade, matrix_genetica):\n",
    "    matrix = np.divide(etapa_dif, np.matmul(matrix_genetica, personagem_agilidade))\n",
    "    return np.sum(matrix)\n",
    "\n",
    "\n",
    "\n",
    "def busca(p, lista): # returna indice i em que lista[i-1] < p < lista[i]\n",
    "\tlow = 0\n",
    "\thigh = len(lista) - 1\n",
    "\twhile low <= high:\n",
    "\t\tmiddle = low + (high - low) // 2\n",
    "\t\tif lista[middle] >= p and lista[middle-1] < p: # lista[middle-1] < p <= lista[middle]\n",
    "\t\t\treturn middle\n",
    "\t\telif lista[middle] <= p:\n",
    "\t\t\tlow = middle + 1 \n",
    "\t\telse:\n",
    "\t\t\thigh = middle - 1\n",
    "\treturn 0\n",
    "\n",
    "def random_selection(population):\n",
    "    times = [custo_tempo(etapa_dif, personagem_agilidade, person) for person in population]\n",
    "    times = np.divide(1, times) \n",
    "    probs = np.divide(times, np.sum(times)) ## mais provavel, menor tempos\n",
    "    lista = []\n",
    "    psum = 0\n",
    "    n= len(probs)\n",
    "    for i in range(n):\n",
    "        psum += probs[i]\n",
    "        lista.append(psum)\n",
    "    p = random()\n",
    "    j = busca(p, lista)\n",
    "    return population[j] \n",
    "def best_individual(population):\n",
    "    times = [custo_tempo(etapa_dif, personagem_agilidade, person) for person in population]    \n",
    "    best_time = times[0]\n",
    "    index = 0\n",
    "    for i in range(1, len(times)):\n",
    "        if times[i] < best_time:\n",
    "            best_time = times[i]\n",
    "            index = i\n",
    "    return best_time, population[index]\n",
    "\n",
    "def die(population):\n",
    "    ## population (times, pop)\n",
    "    tam = len(population)\n",
    "    excess = 2000 - tam\n",
    "    # tupla (tempo, child)\n",
    "    times = [(custo_tempo(etapa_dif, personagem_agilidade, person), person) for person in population]\n",
    "    times.sort(key=lambda y: y[0])\n",
    "    for i in range(excess):\n",
    "        times.pop(tam-i)\n",
    "    population = []\n",
    "    for i in range(excess):\n",
    "        population.append(times[i][1])\n",
    "    return population\n",
    "\n",
    "\n",
    "\n",
    "def genetic_algorithm(population,n): ## population list of matrices\n",
    "    best_time, fit_ind = best_individual(population)\n",
    "    print('best_time', best_time)\n",
    "\n",
    "    for j in range(n):\n",
    "        ## tamanho pop\n",
    "        # ideia tirar caras ruins\n",
    "            new_population = []\n",
    "            # evaluate best individual...\n",
    "            for i in range(len(population)):\n",
    "                x = random_selection(population)\n",
    "                y = random_selection(population)\n",
    "                while np.array_equal(x,y):\n",
    "                    y = random_selection(population)\n",
    "                childs = reproduce1(x,y)\n",
    "                for child in childs:\n",
    "                    new_population.append(child)\n",
    "                # p = random()\n",
    "                # if (p < 0.01):\n",
    "                #     child = mutate(child)\n",
    "            print('new pop', len(new_population))\n",
    "            population = new_population\n",
    "            time, ind = best_individual(population)\n",
    "            if time < best_time:\n",
    "                best_time = time\n",
    "                fit_ind = ind\n",
    "                print('time', time)\n",
    "                print('best_time', best_time)\n",
    "            if len(new_population) < 2000:\n",
    "                new_population = die(new_population)\n",
    "    return fit_ind"
   ]
  },
  {
   "cell_type": "code",
   "execution_count": 173,
   "metadata": {},
   "outputs": [],
   "source": [
    "population = list()\n",
    "for i in range(100):\n",
    "    population.append(cria_novo_matrix(nlines, ncols, k))"
   ]
  },
  {
   "cell_type": "code",
   "execution_count": 174,
   "metadata": {},
   "outputs": [
    {
     "name": "stdout",
     "output_type": "stream",
     "text": [
      "best_time 2278.687997494435\n",
      "new pop 492\n",
      "new pop 2684\n",
      "time 2236.8654017894864\n",
      "best_time 2236.8654017894864\n",
      "new pop 16670\n",
      "time 2224.3665689230065\n",
      "best_time 2224.3665689230065\n"
     ]
    }
   ],
   "source": [
    "genetic_algorithm(population,10)"
   ]
  },
  {
   "cell_type": "code",
   "execution_count": 159,
   "metadata": {},
   "outputs": [
    {
     "data": {
      "text/plain": [
       "1"
      ]
     },
     "execution_count": 159,
     "metadata": {},
     "output_type": "execute_result"
    }
   ],
   "source": [
    "min(4,1)"
   ]
  },
  {
   "cell_type": "code",
   "execution_count": 148,
   "metadata": {},
   "outputs": [],
   "source": [
    "x = population[0]\n",
    "y= population[1]"
   ]
  },
  {
   "cell_type": "code",
   "execution_count": 134,
   "metadata": {},
   "outputs": [
    {
     "data": {
      "text/plain": [
       "array([[1., 1., 1., 0.],\n",
       "       [0., 0., 0., 1.],\n",
       "       [0., 1., 1., 0.],\n",
       "       [1., 0., 0., 0.],\n",
       "       [0., 0., 0., 1.]])"
      ]
     },
     "execution_count": 134,
     "metadata": {},
     "output_type": "execute_result"
    }
   ],
   "source": [
    "x"
   ]
  },
  {
   "cell_type": "code",
   "execution_count": 135,
   "metadata": {},
   "outputs": [
    {
     "data": {
      "text/plain": [
       "array([[0., 0., 0., 1.],\n",
       "       [0., 1., 0., 0.],\n",
       "       [1., 0., 0., 0.],\n",
       "       [1., 1., 1., 0.],\n",
       "       [0., 0., 1., 1.]])"
      ]
     },
     "execution_count": 135,
     "metadata": {},
     "output_type": "execute_result"
    }
   ],
   "source": [
    "y"
   ]
  },
  {
   "cell_type": "code",
   "execution_count": 140,
   "metadata": {},
   "outputs": [],
   "source": [
    "childs= reproduce1(x,y,2)"
   ]
  },
  {
   "cell_type": "code",
   "execution_count": 141,
   "metadata": {},
   "outputs": [
    {
     "data": {
      "text/plain": [
       "3"
      ]
     },
     "execution_count": 141,
     "metadata": {},
     "output_type": "execute_result"
    }
   ],
   "source": [
    "len(childs)"
   ]
  },
  {
   "cell_type": "code",
   "execution_count": 143,
   "metadata": {},
   "outputs": [
    {
     "data": {
      "text/plain": [
       "False"
      ]
     },
     "execution_count": 143,
     "metadata": {},
     "output_type": "execute_result"
    }
   ],
   "source": [
    "np.array_equal(childs[1], childs[2])"
   ]
  },
  {
   "cell_type": "code",
   "execution_count": 68,
   "metadata": {},
   "outputs": [
    {
     "name": "stdout",
     "output_type": "stream",
     "text": [
      "best_time 2452.0840004074826\n",
      "new pop 0\n"
     ]
    },
    {
     "name": "stderr",
     "output_type": "stream",
     "text": [
      "/usr/local/lib/python3.7/site-packages/ipykernel_launcher.py:7: RuntimeWarning: divide by zero encountered in true_divide\n",
      "  import sys\n"
     ]
    },
    {
     "ename": "IndexError",
     "evalue": "list index out of range",
     "output_type": "error",
     "traceback": [
      "\u001b[0;31m---------------------------------------------------------------------------\u001b[0m",
      "\u001b[0;31mIndexError\u001b[0m                                Traceback (most recent call last)",
      "\u001b[0;32m/var/folders/_3/lhx13yvj1p9c3jh616rk14sm0000gq/T/ipykernel_7027/1960225101.py\u001b[0m in \u001b[0;36m<module>\u001b[0;34m\u001b[0m\n\u001b[0;32m----> 1\u001b[0;31m \u001b[0ma\u001b[0m \u001b[0;34m=\u001b[0m \u001b[0mgenetic_algorithm\u001b[0m\u001b[0;34m(\u001b[0m\u001b[0mpopulation\u001b[0m\u001b[0;34m,\u001b[0m \u001b[0;36m40\u001b[0m\u001b[0;34m)\u001b[0m\u001b[0;34m\u001b[0m\u001b[0;34m\u001b[0m\u001b[0m\n\u001b[0m",
      "\u001b[0;32m/var/folders/_3/lhx13yvj1p9c3jh616rk14sm0000gq/T/ipykernel_7027/3412902413.py\u001b[0m in \u001b[0;36mgenetic_algorithm\u001b[0;34m(population, n)\u001b[0m\n\u001b[1;32m     99\u001b[0m         \u001b[0mprint\u001b[0m\u001b[0;34m(\u001b[0m\u001b[0;34m'new pop'\u001b[0m\u001b[0;34m,\u001b[0m \u001b[0mlen\u001b[0m\u001b[0;34m(\u001b[0m\u001b[0mnew_population\u001b[0m\u001b[0;34m)\u001b[0m\u001b[0;34m)\u001b[0m\u001b[0;34m\u001b[0m\u001b[0;34m\u001b[0m\u001b[0m\n\u001b[1;32m    100\u001b[0m         \u001b[0mpopulation\u001b[0m \u001b[0;34m=\u001b[0m \u001b[0mnew_population\u001b[0m\u001b[0;34m\u001b[0m\u001b[0;34m\u001b[0m\u001b[0m\n\u001b[0;32m--> 101\u001b[0;31m         \u001b[0mtime\u001b[0m\u001b[0;34m,\u001b[0m \u001b[0mind\u001b[0m \u001b[0;34m=\u001b[0m \u001b[0mbest_individual\u001b[0m\u001b[0;34m(\u001b[0m\u001b[0mpopulation\u001b[0m\u001b[0;34m)\u001b[0m\u001b[0;34m\u001b[0m\u001b[0;34m\u001b[0m\u001b[0m\n\u001b[0m\u001b[1;32m    102\u001b[0m         \u001b[0;32mif\u001b[0m \u001b[0mtime\u001b[0m \u001b[0;34m<\u001b[0m \u001b[0mbest_time\u001b[0m\u001b[0;34m:\u001b[0m\u001b[0;34m\u001b[0m\u001b[0;34m\u001b[0m\u001b[0m\n\u001b[1;32m    103\u001b[0m             \u001b[0mbest_time\u001b[0m \u001b[0;34m=\u001b[0m \u001b[0mtime\u001b[0m\u001b[0;34m\u001b[0m\u001b[0;34m\u001b[0m\u001b[0m\n",
      "\u001b[0;32m/var/folders/_3/lhx13yvj1p9c3jh616rk14sm0000gq/T/ipykernel_7027/3412902413.py\u001b[0m in \u001b[0;36mbest_individual\u001b[0;34m(population)\u001b[0m\n\u001b[1;32m     74\u001b[0m \u001b[0;32mdef\u001b[0m \u001b[0mbest_individual\u001b[0m\u001b[0;34m(\u001b[0m\u001b[0mpopulation\u001b[0m\u001b[0;34m)\u001b[0m\u001b[0;34m:\u001b[0m\u001b[0;34m\u001b[0m\u001b[0;34m\u001b[0m\u001b[0m\n\u001b[1;32m     75\u001b[0m     \u001b[0mtimes\u001b[0m \u001b[0;34m=\u001b[0m \u001b[0;34m[\u001b[0m\u001b[0mcusto_tempo\u001b[0m\u001b[0;34m(\u001b[0m\u001b[0metapa_dif\u001b[0m\u001b[0;34m,\u001b[0m \u001b[0mpersonagem_agilidade\u001b[0m\u001b[0;34m,\u001b[0m \u001b[0mperson\u001b[0m\u001b[0;34m)\u001b[0m \u001b[0;32mfor\u001b[0m \u001b[0mperson\u001b[0m \u001b[0;32min\u001b[0m \u001b[0mpopulation\u001b[0m\u001b[0;34m]\u001b[0m\u001b[0;34m\u001b[0m\u001b[0;34m\u001b[0m\u001b[0m\n\u001b[0;32m---> 76\u001b[0;31m     \u001b[0mbest_time\u001b[0m \u001b[0;34m=\u001b[0m \u001b[0mtimes\u001b[0m\u001b[0;34m[\u001b[0m\u001b[0;36m0\u001b[0m\u001b[0;34m]\u001b[0m\u001b[0;34m\u001b[0m\u001b[0;34m\u001b[0m\u001b[0m\n\u001b[0m\u001b[1;32m     77\u001b[0m     \u001b[0mindex\u001b[0m \u001b[0;34m=\u001b[0m \u001b[0;36m0\u001b[0m\u001b[0;34m\u001b[0m\u001b[0;34m\u001b[0m\u001b[0m\n\u001b[1;32m     78\u001b[0m     \u001b[0;32mfor\u001b[0m \u001b[0mi\u001b[0m \u001b[0;32min\u001b[0m \u001b[0mrange\u001b[0m\u001b[0;34m(\u001b[0m\u001b[0;36m1\u001b[0m\u001b[0;34m,\u001b[0m \u001b[0mlen\u001b[0m\u001b[0;34m(\u001b[0m\u001b[0mtimes\u001b[0m\u001b[0;34m)\u001b[0m\u001b[0;34m)\u001b[0m\u001b[0;34m:\u001b[0m\u001b[0;34m\u001b[0m\u001b[0;34m\u001b[0m\u001b[0m\n",
      "\u001b[0;31mIndexError\u001b[0m: list index out of range"
     ]
    }
   ],
   "source": [
    "a = genetic_algorithm(population, 40)"
   ]
  },
  {
   "cell_type": "code",
   "execution_count": null,
   "metadata": {},
   "outputs": [],
   "source": [
    "\n",
    "def bits(n):\n",
    "    bits = [] \n",
    "    while n > 0:\n",
    "        r = n%2\n",
    "        n = n//2\n",
    "        bits.append(r)\n",
    "    return bits\n",
    "\n",
    "# assume que soma resultado vai a no maximo n '1s\n",
    "def soma_bits(a,b, n ):\n",
    "    r = a+b\n",
    "    for i in range(n-1):\n",
    "        if r[i] == 2:\n",
    "            r[i] = 0\n",
    "            r[i+1] +=1\n",
    "    return r\n",
    "\n",
    "def reproduce1(x,y): \n",
    "    tuplas = []\n",
    "    for line in range(nlines):\n",
    "        for col in range(ncols):\n",
    "            if x[line][col] != y[line][col]:\n",
    "                tuplas.append((line, col))\n",
    "\n",
    "    casas_sorteadas = []\n",
    "    n=4\n",
    "    for i in range(n):\n",
    "        num = randint(0, len(tuplas)-1)\n",
    "        casas_sorteadas.append(tuplas[num])\n",
    "        tuplas.pop(k)\n",
    "    \n",
    "    ## np.array\n",
    "    childs = [x, y]\n",
    "    bits = np.array([0,0,0,0])\n",
    "    m = deepcopy(x)\n",
    "    n = pow(2,n)\n",
    "    for i in range(n-1): ## criancas podem ser x e y\n",
    "        matrix = deepcopy(m)\n",
    "        for j in range(n):\n",
    "            # percorrer bits\n",
    "            if bits[j] == 1:\n",
    "                a = casas_sorteadas[j][0]\n",
    "                b = casas_sorteadas[j][1]\n",
    "                matrix[a][b] = y[a][b]\n",
    "        um = np.array([1,0,0,0])\n",
    "        bits = soma_bits(bits, um, n)\n",
    "        if checa_k(matrix, k) == -1 and checa_vazio(matrix) == -1:\n",
    "            childs.append(matrix)\n",
    "    return childs"
   ]
  },
  {
   "cell_type": "code",
   "execution_count": 15,
   "metadata": {},
   "outputs": [],
   "source": [
    "from random import random"
   ]
  },
  {
   "cell_type": "code",
   "execution_count": 33,
   "metadata": {},
   "outputs": [
    {
     "name": "stdout",
     "output_type": "stream",
     "text": [
      "soma 1\n",
      "soma 2\n",
      "soma 0\n"
     ]
    },
    {
     "data": {
      "text/plain": [
       "2"
      ]
     },
     "execution_count": 33,
     "metadata": {},
     "output_type": "execute_result"
    }
   ],
   "source": [
    "m = np.matrix([[0,1], [1,1], [0,0]])\n",
    "checa_vazio(*m)"
   ]
  },
  {
   "cell_type": "code",
   "execution_count": 1,
   "metadata": {},
   "outputs": [],
   "source": [
    "lista =[(1,2), (3,3)]"
   ]
  },
  {
   "cell_type": "code",
   "execution_count": 84,
   "metadata": {},
   "outputs": [],
   "source": [
    "n = np.zeros((4, 5))"
   ]
  },
  {
   "cell_type": "code",
   "execution_count": 2,
   "metadata": {},
   "outputs": [
    {
     "data": {
      "text/plain": [
       "[(1, 2), (3, 3)]"
      ]
     },
     "execution_count": 2,
     "metadata": {},
     "output_type": "execute_result"
    }
   ],
   "source": [
    "lista"
   ]
  },
  {
   "cell_type": "code",
   "execution_count": 3,
   "metadata": {},
   "outputs": [],
   "source": [
    "lista.append((3,4))"
   ]
  },
  {
   "cell_type": "code",
   "execution_count": 4,
   "metadata": {},
   "outputs": [
    {
     "data": {
      "text/plain": [
       "[(1, 2), (3, 3), (3, 4)]"
      ]
     },
     "execution_count": 4,
     "metadata": {},
     "output_type": "execute_result"
    }
   ],
   "source": [
    "lista"
   ]
  },
  {
   "cell_type": "code",
   "execution_count": 53,
   "metadata": {},
   "outputs": [],
   "source": [
    "m = [[1,2],[3,4]]\n",
    "n = deepcopy(m)\n",
    "\n",
    "lista = []\n",
    "lista.append(n)\n",
    "m[0][0] = 7\n"
   ]
  },
  {
   "cell_type": "code",
   "execution_count": 54,
   "metadata": {},
   "outputs": [],
   "source": [
    "n = deepcopy(m)\n",
    "lista.append(n)\n",
    "\n",
    "n[1][1] = 8"
   ]
  },
  {
   "cell_type": "code",
   "execution_count": 34,
   "metadata": {},
   "outputs": [],
   "source": [
    "from copy import deepcopy"
   ]
  },
  {
   "cell_type": "code",
   "execution_count": 55,
   "metadata": {},
   "outputs": [
    {
     "data": {
      "text/plain": [
       "[[[1, 2], [3, 4]], [[7, 2], [3, 8]]]"
      ]
     },
     "execution_count": 55,
     "metadata": {},
     "output_type": "execute_result"
    }
   ],
   "source": [
    "lista"
   ]
  },
  {
   "cell_type": "code",
   "execution_count": 63,
   "metadata": {},
   "outputs": [],
   "source": [
    "def bits(n):\n",
    "    bits = [] \n",
    "    while n > 0:\n",
    "        r = n%2\n",
    "        n = n//2\n",
    "        bits.append(r)\n",
    "    return bits\n"
   ]
  },
  {
   "cell_type": "code",
   "execution_count": 64,
   "metadata": {},
   "outputs": [
    {
     "data": {
      "text/plain": [
       "[0, 0, 0, 0, 1]"
      ]
     },
     "execution_count": 64,
     "metadata": {},
     "output_type": "execute_result"
    }
   ],
   "source": [
    "bits(16)"
   ]
  },
  {
   "cell_type": "code",
   "execution_count": 75,
   "metadata": {},
   "outputs": [],
   "source": [
    "def soma_bits(a,b, n ):\n",
    "    r = a+b\n",
    "    for i in range(n-1):\n",
    "        if r[i] == 2:\n",
    "            r[i] = 0\n",
    "            r[i+1] +=1\n",
    "    return r"
   ]
  },
  {
   "cell_type": "code",
   "execution_count": 76,
   "metadata": {},
   "outputs": [
    {
     "data": {
      "text/plain": [
       "array([0, 1, 2])"
      ]
     },
     "execution_count": 76,
     "metadata": {},
     "output_type": "execute_result"
    }
   ],
   "source": [
    "soma_bits(a,b,3)"
   ]
  },
  {
   "cell_type": "code",
   "execution_count": 73,
   "metadata": {},
   "outputs": [],
   "source": [
    "a = np.array([1, 0, 1])\n",
    "b = np.array([1,0,1])"
   ]
  },
  {
   "cell_type": "code",
   "execution_count": 68,
   "metadata": {},
   "outputs": [
    {
     "data": {
      "text/plain": [
       "array([1, 1, 2])"
      ]
     },
     "execution_count": 68,
     "metadata": {},
     "output_type": "execute_result"
    }
   ],
   "source": [
    "lista + list1"
   ]
  },
  {
   "cell_type": "code",
   "execution_count": 57,
   "metadata": {},
   "outputs": [
    {
     "data": {
      "text/plain": [
       "[[7, 2], [3, 8]]"
      ]
     },
     "execution_count": 57,
     "metadata": {},
     "output_type": "execute_result"
    }
   ],
   "source": [
    "lista.pop(1)"
   ]
  },
  {
   "cell_type": "code",
   "execution_count": 58,
   "metadata": {},
   "outputs": [
    {
     "data": {
      "text/plain": [
       "[[[1, 2], [3, 4]]]"
      ]
     },
     "execution_count": 58,
     "metadata": {},
     "output_type": "execute_result"
    }
   ],
   "source": [
    "lista"
   ]
  },
  {
   "cell_type": "code",
   "execution_count": 66,
   "metadata": {},
   "outputs": [
    {
     "data": {
      "text/plain": [
       "array([2.])"
      ]
     },
     "execution_count": 66,
     "metadata": {},
     "output_type": "execute_result"
    }
   ],
   "source": [
    "np.append(m, [2])"
   ]
  },
  {
   "cell_type": "code",
   "execution_count": 6,
   "metadata": {},
   "outputs": [],
   "source": [
    "import numpy as np"
   ]
  },
  {
   "cell_type": "code",
   "execution_count": 7,
   "metadata": {},
   "outputs": [],
   "source": [
    "m = np.zeros((3,3))"
   ]
  },
  {
   "cell_type": "code",
   "execution_count": 14,
   "metadata": {},
   "outputs": [
    {
     "data": {
      "text/plain": [
       "array([[0., 0., 0.],\n",
       "       [0., 0., 0.],\n",
       "       [0., 0., 0.]])"
      ]
     },
     "execution_count": 14,
     "metadata": {},
     "output_type": "execute_result"
    }
   ],
   "source": [
    "m"
   ]
  },
  {
   "cell_type": "code",
   "execution_count": 12,
   "metadata": {},
   "outputs": [
    {
     "data": {
      "text/plain": [
       "array([[1., 0., 0.],\n",
       "       [0., 0., 0.],\n",
       "       [0., 0., 0.]])"
      ]
     },
     "execution_count": 12,
     "metadata": {},
     "output_type": "execute_result"
    }
   ],
   "source": [
    "n"
   ]
  },
  {
   "cell_type": "code",
   "execution_count": 11,
   "metadata": {},
   "outputs": [],
   "source": [
    "n[0][0] =1"
   ]
  },
  {
   "cell_type": "code",
   "execution_count": 9,
   "metadata": {},
   "outputs": [],
   "source": [
    "n = m.copy()"
   ]
  },
  {
   "cell_type": "code",
   "execution_count": 47,
   "metadata": {},
   "outputs": [],
   "source": [
    "lista = [[0,2], [1,1]]"
   ]
  },
  {
   "cell_type": "code",
   "execution_count": 50,
   "metadata": {},
   "outputs": [
    {
     "data": {
      "text/plain": [
       "2"
      ]
     },
     "execution_count": 50,
     "metadata": {},
     "output_type": "execute_result"
    }
   ],
   "source": [
    "lista[0][1]"
   ]
  },
  {
   "cell_type": "code",
   "execution_count": 51,
   "metadata": {},
   "outputs": [
    {
     "ename": "TypeError",
     "evalue": "list indices must be integers or slices, not tuple",
     "output_type": "error",
     "traceback": [
      "\u001b[0;31m---------------------------------------------------------------------------\u001b[0m",
      "\u001b[0;31mTypeError\u001b[0m                                 Traceback (most recent call last)",
      "\u001b[0;32m/var/folders/_3/lhx13yvj1p9c3jh616rk14sm0000gq/T/ipykernel_733/2826432146.py\u001b[0m in \u001b[0;36m<module>\u001b[0;34m\u001b[0m\n\u001b[0;32m----> 1\u001b[0;31m \u001b[0mlista\u001b[0m\u001b[0;34m[\u001b[0m\u001b[0;34m:\u001b[0m\u001b[0;34m,\u001b[0m\u001b[0;36m2\u001b[0m\u001b[0;34m]\u001b[0m\u001b[0;34m\u001b[0m\u001b[0;34m\u001b[0m\u001b[0m\n\u001b[0m",
      "\u001b[0;31mTypeError\u001b[0m: list indices must be integers or slices, not tuple"
     ]
    }
   ],
   "source": [
    "lista[:,2]"
   ]
  },
  {
   "cell_type": "code",
   "execution_count": null,
   "metadata": {},
   "outputs": [],
   "source": []
  }
 ],
 "metadata": {
  "interpreter": {
   "hash": "aee8b7b246df8f9039afb4144a1f6fd8d2ca17a180786b69acc140d282b71a49"
  },
  "kernelspec": {
   "display_name": "Python 3.7.2 64-bit",
   "language": "python",
   "name": "python3"
  },
  "language_info": {
   "codemirror_mode": {
    "name": "ipython",
    "version": 3
   },
   "file_extension": ".py",
   "mimetype": "text/x-python",
   "name": "python",
   "nbconvert_exporter": "python",
   "pygments_lexer": "ipython3",
   "version": "3.7.2"
  },
  "orig_nbformat": 4
 },
 "nbformat": 4,
 "nbformat_minor": 2
}
