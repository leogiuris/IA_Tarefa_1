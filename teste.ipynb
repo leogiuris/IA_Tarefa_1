{
 "cells": [
  {
   "cell_type": "code",
   "execution_count": 1,
   "metadata": {},
   "outputs": [],
   "source": [
    "%load_ext autoreload\n"
   ]
  },
  {
   "cell_type": "code",
   "execution_count": 8,
   "metadata": {},
   "outputs": [],
   "source": [
    "from random import random, randint\n",
    "import numpy as np\n",
    "from copy import deepcopy"
   ]
  },
  {
   "cell_type": "code",
   "execution_count": null,
   "metadata": {},
   "outputs": [],
   "source": []
  },
  {
   "cell_type": "code",
   "execution_count": 3,
   "metadata": {},
   "outputs": [],
   "source": [
    "nlines = 31\n",
    "ncols = 7\n",
    "k = 8\n",
    "\n",
    "def cria_linha(ncols): #ncols = 7\n",
    "    l=[]\n",
    "    i=0\n",
    "    t=0\n",
    "    while i<ncols:\n",
    "        n=randint(0,1) # mudar probabilidade!!!!!!!! assim nao funciona\n",
    "        l.append(n)\n",
    "        t+=n\n",
    "        i+=1\n",
    "    if t:#checa se pelo menos um membro percorreu o percurso\n",
    "        return l\n",
    "    else:\n",
    "        return cria_linha(ncols)\n",
    "   \n",
    "#cria matriz [30][7]\n",
    "def cria_matriz(nlines, ncols): # nlines=30, ncols = 8\n",
    "    i=0\n",
    "    m=[]\n",
    "    while i<nlines:\n",
    "       m.append(cria_linha(ncols))\n",
    "       i+=1\n",
    "    return m\n",
    "\n",
    "\n",
    "def cria_novo_matrix(nlines, ncols, k):\n",
    "    m=np.zeros((nlines, ncols))\n",
    "    vivo = randint(0, ncols-1)\n",
    "    for i in range(ncols):\n",
    "      ltot = 0\n",
    "      if i == vivo:\n",
    "          ltot = 1 ## i irá sobreviver\n",
    "      while ltot < k:\n",
    "         n = randint(0,nlines-1)\n",
    "         if m[n][i] != 1:\n",
    "               m[n][i] = 1\n",
    "               ltot += 1\n",
    "    index = checa_vazio(*m)\n",
    "    while index != -1:\n",
    "        n = randint(0,ncols-1)\n",
    "        m[index][n] = 1\n",
    "        ## atualizar matrix pois agora tem mais de k 1's na coluna\n",
    "        k = randint(0, nlines-1)\n",
    "        while m[k][n]== 0:\n",
    "            k = randint(0, nlines-1)\n",
    "        m[k][n] = 0\n",
    "        index = checa_vazio(*m)\n",
    "    return m \n"
   ]
  },
  {
   "cell_type": "code",
   "execution_count": 4,
   "metadata": {},
   "outputs": [],
   "source": [
    "nlines = 31\n",
    "ncols = 7\n",
    "k = 8\n",
    "#checa se alguem foi usado mais que k vezes\n",
    "#checa se alguem foi usado mais que k vezes\n",
    "def checa_k_vivo(*m):\n",
    "    alive = 0\n",
    "    for i in range(len(m[0])):\n",
    "        t=0\n",
    "        for j in range(len(m)):\n",
    "            t+=(m[j][i])\n",
    "            # j+=1z\n",
    "        alive += t\n",
    "        if t>k:\n",
    "            return i #retorna indice do que apareceu mais de k vezes\n",
    "    if alive >= k*len(m[0]):\n",
    "        return -2\n",
    "            \n",
    "        # i+=1\n",
    "    return -1\n",
    "\n",
    "\n",
    "def checa_vazio(*m):    \n",
    "    for i in range(len(m)):\n",
    "        sum = m[i].sum()\n",
    "        if sum == 0:\n",
    "            return i\n",
    "    return -1\n",
    "    \n",
    "def bits(n):\n",
    "    bits = [] \n",
    "    while n > 0:\n",
    "        r = n%2\n",
    "        n = n//2\n",
    "        bits.append(r)\n",
    "    return bits\n",
    "\n",
    "# assume que soma resultado vai a no maximo n '1s\n",
    "def soma_bits(a,b, n ):\n",
    "    r = a+b\n",
    "    for i in range(n-1):\n",
    "        if r[i] == 2:\n",
    "            r[i] = 0\n",
    "            r[i+1] +=1\n",
    "    return r\n",
    "\n",
    "def reproduce1(x,y): \n",
    "    # x = (person, time)\n",
    "    tuplas = []\n",
    "    for line in range(nlines):\n",
    "        for col in range(ncols):\n",
    "            if x[0][line][col] != y[0][line][col]:\n",
    "                tuplas.append((line, col))\n",
    "    casas_sorteadas = []\n",
    "    n = min(5, len(tuplas))\n",
    "    for i in range(n):\n",
    "        num = randint(0, len(tuplas)-1)\n",
    "        casas_sorteadas.append(tuplas[num])\n",
    "        tuplas.pop(num)\n",
    "    childs = [x, y]\n",
    "    bits = np.zeros(n)\n",
    "    bits[0] = 1\n",
    "    m = deepcopy(x[0])\n",
    "    l = pow(2,n)\n",
    "    for i in range(l-1): ## criancas podem ser x e y\n",
    "        matrix = deepcopy(m)\n",
    "        for j in range(n):\n",
    "            # percorrer bits\n",
    "            if bits[j] == 1:\n",
    "                a = casas_sorteadas[j][0]\n",
    "                b = casas_sorteadas[j][1]\n",
    "                matrix[a][b] = y[0][a][b]\n",
    "        um = np.zeros(n)\n",
    "        um[0] = 1\n",
    "        bits = soma_bits(bits, um, n)\n",
    "        if checa_k_vivo(*matrix) == -1 and checa_vazio(*matrix) == -1:\n",
    "            time = custo_tempo(etapa_dif, personagem_agilidade, matrix)\n",
    "            childs.append((matrix, time))\n",
    "    return childs"
   ]
  },
  {
   "cell_type": "code",
   "execution_count": 10,
   "metadata": {},
   "outputs": [],
   "source": [
    "\n",
    "etapa_dif = []\n",
    "for i in range(1,32):\n",
    "    etapa_dif.append(10*i)\n",
    "personagem_agilidade = [1.8, 1.6, 1.6, 1.6, 1.4, 0.9, 0.7]\n",
    "nlines = 31\n",
    "ncols = 7\n",
    "k = 8\n",
    "# custo do tempo a cada etapa: dificuldade/ agilidade na etapa\n",
    "def custo_tempo(etapa_dif, personagem_agilidade, matrix_genetica):\n",
    "    matrix = np.divide(etapa_dif, np.matmul(matrix_genetica, personagem_agilidade))\n",
    "    return np.sum(matrix)\n",
    "\n",
    "\n",
    "\n",
    "def busca(p, lista): # returna indice i em que lista[i-1] < p < lista[i]\n",
    "\tlow = 0\n",
    "\thigh = len(lista) - 1\n",
    "\twhile low <= high:\n",
    "\t\tmiddle = low + (high - low) // 2\n",
    "\t\tif lista[middle] >= p and lista[middle-1] < p: # lista[middle-1] < p <= lista[middle]\n",
    "\t\t\treturn middle\n",
    "\t\telif lista[middle] <= p:\n",
    "\t\t\tlow = middle + 1 \n",
    "\t\telse:\n",
    "\t\t\thigh = middle - 1\n",
    "\treturn 0\n",
    "\n",
    "def random_selection(population):\n",
    "    times = list()\n",
    "    for person in population:\n",
    "        times.append(person[1])\n",
    "    times = np.divide(1, times) \n",
    "    probs = np.divide(times, np.sum(times)) ## mais provavel, menor tempos\n",
    "    lista = []\n",
    "    psum = 0\n",
    "    n= len(probs)\n",
    "    for i in range(n):\n",
    "        psum += probs[i]\n",
    "        lista.append(psum)\n",
    "    p = random()\n",
    "    j = busca(p, lista)\n",
    "    return population[j] # (person, time)\n",
    "    \n",
    "def best_individual(population):\n",
    "    population.sort(key=lambda y: y[1]) #sort by time\n",
    "    best_time = population[0][1]\n",
    "    best_person = population[0][0]\n",
    "    return best_time, best_person\n",
    "\n",
    "def die(population, max):\n",
    "    tam = len(population)\n",
    "    excess = tam - max\n",
    "    # tupla (child, time)\n",
    "    population.sort(key=lambda y: y[1])\n",
    "    for i in range(1,excess+1):\n",
    "        population.pop(tam-i)\n",
    "    # return population\n",
    "\n",
    "def repetition(population, potential_child):\n",
    "    for child in population:\n",
    "        if np.array_equal(child[0], potential_child[0]):\n",
    "            return 1\n",
    "    return 0\n",
    "\n",
    "def genetic_algorithm(population): ## population list of matrices\n",
    "    best_time, fit_ind = best_individual(population)\n",
    "    print('best_time', best_time)\n",
    "    count = 0\n",
    "    while count < 50:\n",
    "    ## tamanho pop\n",
    "    # ideia tirar caras ruins\n",
    "        new_population = []\n",
    "        # evaluate best individual...\n",
    "        for i in range(200):\n",
    "            x = random_selection(population) # (person, time)\n",
    "            y = random_selection(population)\n",
    "            while np.array_equal(x[0],y[0]):\n",
    "                y = random_selection(population)\n",
    "            childs = reproduce1(x,y)\n",
    "            for child in childs:\n",
    "                if repetition(new_population, child) == 0:\n",
    "                    new_population.append(child)\n",
    "            # p = random()\n",
    "            # if (p < 0.01):\n",
    "            #     child = mutate(child)\n",
    "        population = new_population\n",
    "        print('new pop', len(population))\n",
    "        if len(population) > 3000:\n",
    "            die(population, 3000)\n",
    "            print('new pop after massive deaths', len(population))\n",
    "        \n",
    "        time, ind = best_individual(population)\n",
    "        if time < best_time:\n",
    "            best_time = time\n",
    "            fit_ind = ind\n",
    "            print('time', time)\n",
    "            print('best_time', best_time)\n",
    "        else:\n",
    "            count += 1\n",
    "            \n",
    "    return fit_ind"
   ]
  },
  {
   "cell_type": "code",
   "execution_count": 11,
   "metadata": {},
   "outputs": [],
   "source": [
    "population = list()\n",
    "count = 0\n",
    "while count < 100:\n",
    "    potential_person = cria_novo_matrix(nlines, ncols, k)\n",
    "    if repetition(population, potential_person) == 0:\n",
    "        tempo = custo_tempo(etapa_dif, personagem_agilidade, potential_person)\n",
    "        population.append((potential_person, tempo))\n",
    "        count +=1"
   ]
  },
  {
   "cell_type": "code",
   "execution_count": 12,
   "metadata": {},
   "outputs": [
    {
     "data": {
      "text/plain": [
       "100"
      ]
     },
     "execution_count": 12,
     "metadata": {},
     "output_type": "execute_result"
    }
   ],
   "source": [
    "len(population)"
   ]
  },
  {
   "cell_type": "code",
   "execution_count": 13,
   "metadata": {},
   "outputs": [
    {
     "name": "stdout",
     "output_type": "stream",
     "text": [
      "best_time 2371.209406637327\n",
      "new pop 1314\n",
      "time 2358.4458854634686\n",
      "best_time 2358.4458854634686\n",
      "new pop 1771\n",
      "new pop 2042\n",
      "time 2344.285029229083\n",
      "best_time 2344.285029229083\n",
      "new pop 2288\n",
      "new pop 2265\n",
      "time 2312.600728176815\n",
      "best_time 2312.600728176815\n",
      "new pop 2640\n",
      "new pop 2528\n",
      "time 2271.1364424625294\n",
      "best_time 2271.1364424625294\n",
      "new pop 2641\n",
      "new pop 2800\n",
      "new pop 2905\n",
      "new pop 3027\n",
      "new pop after massive deaths 3000\n",
      "new pop 3088\n",
      "new pop after massive deaths 3000\n",
      "new pop 2707\n",
      "time 2266.8120864287744\n",
      "best_time 2266.8120864287744\n",
      "new pop 3249\n",
      "new pop after massive deaths 3000\n",
      "new pop 2882\n",
      "time 2222.3407570178656\n",
      "best_time 2222.3407570178656\n",
      "new pop 3097\n",
      "new pop after massive deaths 3000\n",
      "new pop 2996\n",
      "new pop 3420\n",
      "new pop after massive deaths 3000\n",
      "new pop 3205\n",
      "new pop after massive deaths 3000\n",
      "time 2189.9919187119067\n",
      "best_time 2189.9919187119067\n",
      "new pop 3200\n",
      "new pop after massive deaths 3000\n",
      "time 2170.9086794189\n",
      "best_time 2170.9086794189\n",
      "new pop 3425\n",
      "new pop after massive deaths 3000\n",
      "new pop 3390\n",
      "new pop after massive deaths 3000\n",
      "time 2139.3134553915447\n",
      "best_time 2139.3134553915447\n",
      "new pop 3840\n",
      "new pop after massive deaths 3000\n",
      "new pop 3581\n",
      "new pop after massive deaths 3000\n",
      "new pop 4109\n",
      "new pop after massive deaths 3000\n",
      "new pop 4160\n",
      "new pop after massive deaths 3000\n",
      "new pop 4654\n",
      "new pop after massive deaths 3000\n",
      "new pop 4818\n",
      "new pop after massive deaths 3000\n",
      "new pop 4922\n",
      "new pop after massive deaths 3000\n",
      "time 2125.415581042827\n",
      "best_time 2125.415581042827\n",
      "new pop 5019\n",
      "new pop after massive deaths 3000\n",
      "time 2110.6407363223298\n",
      "best_time 2110.6407363223298\n",
      "new pop 4624\n",
      "new pop after massive deaths 3000\n",
      "time 2086.5050195405133\n",
      "best_time 2086.5050195405133\n",
      "new pop 4652\n",
      "new pop after massive deaths 3000\n",
      "time 2052.740608791643\n",
      "best_time 2052.740608791643\n",
      "new pop 4502\n",
      "new pop after massive deaths 3000\n",
      "time 2026.3294201130107\n",
      "best_time 2026.3294201130107\n",
      "new pop 4448\n",
      "new pop after massive deaths 3000\n",
      "time 1983.4722772558675\n",
      "best_time 1983.4722772558675\n",
      "new pop 4348\n",
      "new pop after massive deaths 3000\n",
      "new pop 4469\n",
      "new pop after massive deaths 3000\n",
      "new pop 4568\n",
      "new pop after massive deaths 3000\n",
      "new pop 4361\n",
      "new pop after massive deaths 3000\n",
      "new pop 4446\n",
      "new pop after massive deaths 3000\n",
      "time 1977.0643116751282\n",
      "best_time 1977.0643116751282\n",
      "new pop 4391\n",
      "new pop after massive deaths 3000\n",
      "new pop 4369\n",
      "new pop after massive deaths 3000\n",
      "new pop 4189\n",
      "new pop after massive deaths 3000\n",
      "new pop 4169\n",
      "new pop after massive deaths 3000\n",
      "new pop 4219\n",
      "new pop after massive deaths 3000\n",
      "time 1953.4446342950407\n",
      "best_time 1953.4446342950407\n",
      "new pop 4094\n",
      "new pop after massive deaths 3000\n",
      "time 1943.5330705080175\n",
      "best_time 1943.5330705080175\n",
      "new pop 4009\n",
      "new pop after massive deaths 3000\n",
      "new pop 4058\n",
      "new pop after massive deaths 3000\n",
      "new pop 4024\n",
      "new pop after massive deaths 3000\n",
      "new pop 3971\n",
      "new pop after massive deaths 3000\n",
      "new pop 4011\n",
      "new pop after massive deaths 3000\n",
      "new pop 3920\n",
      "new pop after massive deaths 3000\n",
      "new pop 3935\n",
      "new pop after massive deaths 3000\n",
      "new pop 3802\n",
      "new pop after massive deaths 3000\n",
      "new pop 4065\n",
      "new pop after massive deaths 3000\n",
      "time 1933.1730808599843\n",
      "best_time 1933.1730808599843\n",
      "new pop 4139\n",
      "new pop after massive deaths 3000\n",
      "new pop 4123\n",
      "new pop after massive deaths 3000\n",
      "new pop 4083\n",
      "new pop after massive deaths 3000\n",
      "new pop 4096\n",
      "new pop after massive deaths 3000\n",
      "new pop 3972\n",
      "new pop after massive deaths 3000\n",
      "new pop 4125\n",
      "new pop after massive deaths 3000\n",
      "time 1930.5034275109833\n",
      "best_time 1930.5034275109833\n",
      "new pop 3903\n",
      "new pop after massive deaths 3000\n",
      "time 1929.666470989244\n",
      "best_time 1929.666470989244\n",
      "new pop 3812\n",
      "new pop after massive deaths 3000\n",
      "new pop 4312\n",
      "new pop after massive deaths 3000\n",
      "time 1928.0146758591882\n",
      "best_time 1928.0146758591882\n",
      "new pop 4024\n",
      "new pop after massive deaths 3000\n",
      "time 1922.5937285143277\n",
      "best_time 1922.5937285143277\n",
      "new pop 4111\n",
      "new pop after massive deaths 3000\n",
      "new pop 3868\n",
      "new pop after massive deaths 3000\n",
      "new pop 4002\n",
      "new pop after massive deaths 3000\n",
      "new pop 3993\n",
      "new pop after massive deaths 3000\n",
      "time 1917.4671165344548\n",
      "best_time 1917.4671165344548\n",
      "new pop 3962\n",
      "new pop after massive deaths 3000\n",
      "new pop 4020\n",
      "new pop after massive deaths 3000\n",
      "time 1911.841559120854\n",
      "best_time 1911.841559120854\n",
      "new pop 3871\n",
      "new pop after massive deaths 3000\n",
      "time 1908.0372112947668\n",
      "best_time 1908.0372112947668\n",
      "new pop 3902\n",
      "new pop after massive deaths 3000\n",
      "new pop 3975\n",
      "new pop after massive deaths 3000\n",
      "new pop 3770\n",
      "new pop after massive deaths 3000\n",
      "new pop 3990\n",
      "new pop after massive deaths 3000\n",
      "new pop 3815\n",
      "new pop after massive deaths 3000\n",
      "time 1899.591559120854\n",
      "best_time 1899.591559120854\n",
      "new pop 3855\n",
      "new pop after massive deaths 3000\n"
     ]
    },
    {
     "data": {
      "text/plain": [
       "array([[1., 0., 0., 0., 0., 0., 0.],\n",
       "       [1., 0., 0., 0., 0., 0., 0.],\n",
       "       [0., 1., 0., 0., 0., 0., 0.],\n",
       "       [0., 0., 0., 0., 0., 1., 0.],\n",
       "       [0., 1., 0., 0., 0., 0., 0.],\n",
       "       [1., 0., 0., 0., 0., 0., 0.],\n",
       "       [0., 1., 0., 0., 0., 0., 0.],\n",
       "       [0., 1., 0., 0., 0., 0., 1.],\n",
       "       [0., 0., 1., 0., 0., 0., 0.],\n",
       "       [1., 0., 0., 0., 0., 0., 0.],\n",
       "       [0., 0., 0., 1., 0., 0., 0.],\n",
       "       [1., 0., 0., 0., 0., 0., 0.],\n",
       "       [0., 0., 0., 1., 0., 0., 1.],\n",
       "       [0., 0., 0., 1., 0., 1., 0.],\n",
       "       [0., 0., 1., 0., 0., 0., 1.],\n",
       "       [0., 0., 1., 0., 0., 0., 1.],\n",
       "       [0., 1., 0., 0., 1., 0., 0.],\n",
       "       [0., 0., 1., 0., 1., 0., 0.],\n",
       "       [0., 1., 0., 1., 0., 0., 0.],\n",
       "       [0., 0., 0., 0., 1., 0., 1.],\n",
       "       [0., 0., 0., 1., 0., 1., 0.],\n",
       "       [0., 0., 1., 1., 0., 0., 0.],\n",
       "       [0., 0., 0., 0., 1., 1., 0.],\n",
       "       [0., 0., 1., 0., 0., 1., 1.],\n",
       "       [0., 0., 1., 1., 0., 0., 0.],\n",
       "       [0., 0., 1., 0., 0., 1., 0.],\n",
       "       [0., 1., 0., 1., 0., 0., 0.],\n",
       "       [1., 0., 0., 0., 1., 1., 0.],\n",
       "       [1., 0., 0., 0., 1., 1., 0.],\n",
       "       [1., 0., 0., 0., 1., 0., 0.],\n",
       "       [0., 1., 0., 0., 1., 0., 1.]])"
      ]
     },
     "execution_count": 13,
     "metadata": {},
     "output_type": "execute_result"
    }
   ],
   "source": [
    "genetic_algorithm(population)"
   ]
  },
  {
   "cell_type": "code",
   "execution_count": null,
   "metadata": {},
   "outputs": [],
   "source": [
    "time, ind = best_individual(population)"
   ]
  },
  {
   "cell_type": "code",
   "execution_count": null,
   "metadata": {},
   "outputs": [],
   "source": [
    "time"
   ]
  },
  {
   "cell_type": "code",
   "execution_count": null,
   "metadata": {},
   "outputs": [],
   "source": [
    "min(4,1)"
   ]
  },
  {
   "cell_type": "code",
   "execution_count": null,
   "metadata": {},
   "outputs": [],
   "source": [
    "x = population[0]\n",
    "y= population[1]"
   ]
  },
  {
   "cell_type": "code",
   "execution_count": null,
   "metadata": {},
   "outputs": [],
   "source": [
    "x"
   ]
  },
  {
   "cell_type": "code",
   "execution_count": null,
   "metadata": {},
   "outputs": [],
   "source": [
    "y"
   ]
  },
  {
   "cell_type": "code",
   "execution_count": null,
   "metadata": {},
   "outputs": [],
   "source": [
    "childs= reproduce1(x,y,2)"
   ]
  },
  {
   "cell_type": "code",
   "execution_count": null,
   "metadata": {},
   "outputs": [],
   "source": [
    "len(childs)"
   ]
  },
  {
   "cell_type": "code",
   "execution_count": null,
   "metadata": {},
   "outputs": [],
   "source": [
    "np.array_equal(childs[1], childs[2])"
   ]
  },
  {
   "cell_type": "code",
   "execution_count": null,
   "metadata": {},
   "outputs": [],
   "source": [
    "a = genetic_algorithm(population, 40)"
   ]
  },
  {
   "cell_type": "code",
   "execution_count": null,
   "metadata": {},
   "outputs": [],
   "source": [
    "\n",
    "def bits(n):\n",
    "    bits = [] \n",
    "    while n > 0:\n",
    "        r = n%2\n",
    "        n = n//2\n",
    "        bits.append(r)\n",
    "    return bits\n",
    "\n",
    "# assume que soma resultado vai a no maximo n '1s\n",
    "def soma_bits(a,b, n ):\n",
    "    r = a+b\n",
    "    for i in range(n-1):\n",
    "        if r[i] == 2:\n",
    "            r[i] = 0\n",
    "            r[i+1] +=1\n",
    "    return r\n",
    "\n",
    "def reproduce1(x,y): \n",
    "    tuplas = []\n",
    "    for line in range(nlines):\n",
    "        for col in range(ncols):\n",
    "            if x[line][col] != y[line][col]:\n",
    "                tuplas.append((line, col))\n",
    "\n",
    "    casas_sorteadas = []\n",
    "    n=4\n",
    "    for i in range(n):\n",
    "        num = randint(0, len(tuplas)-1)\n",
    "        casas_sorteadas.append(tuplas[num])\n",
    "        tuplas.pop(k)\n",
    "    \n",
    "    ## np.array\n",
    "    childs = [x, y]\n",
    "    bits = np.array([0,0,0,0])\n",
    "    m = deepcopy(x)\n",
    "    n = pow(2,n)\n",
    "    for i in range(n-1): ## criancas podem ser x e y\n",
    "        matrix = deepcopy(m)\n",
    "        for j in range(n):\n",
    "            # percorrer bits\n",
    "            if bits[j] == 1:\n",
    "                a = casas_sorteadas[j][0]\n",
    "                b = casas_sorteadas[j][1]\n",
    "                matrix[a][b] = y[a][b]\n",
    "        um = np.array([1,0,0,0])\n",
    "        bits = soma_bits(bits, um, n)\n",
    "        if checa_k(matrix, k) == -1 and checa_vazio(matrix) == -1:\n",
    "            childs.append(matrix)\n",
    "    return childs"
   ]
  },
  {
   "cell_type": "code",
   "execution_count": null,
   "metadata": {},
   "outputs": [],
   "source": [
    "from random import random"
   ]
  },
  {
   "cell_type": "code",
   "execution_count": null,
   "metadata": {},
   "outputs": [],
   "source": [
    "m = np.matrix([[0,1], [1,1], [0,0]])\n",
    "checa_vazio(*m)"
   ]
  },
  {
   "cell_type": "code",
   "execution_count": null,
   "metadata": {},
   "outputs": [],
   "source": [
    "lista =[(1,2), (3,3)]"
   ]
  },
  {
   "cell_type": "code",
   "execution_count": null,
   "metadata": {},
   "outputs": [],
   "source": [
    "n = np.zeros((4, 5))"
   ]
  },
  {
   "cell_type": "code",
   "execution_count": null,
   "metadata": {},
   "outputs": [],
   "source": [
    "lista"
   ]
  },
  {
   "cell_type": "code",
   "execution_count": null,
   "metadata": {},
   "outputs": [],
   "source": [
    "lista.append((3,4))"
   ]
  },
  {
   "cell_type": "code",
   "execution_count": null,
   "metadata": {},
   "outputs": [],
   "source": [
    "lista"
   ]
  },
  {
   "cell_type": "code",
   "execution_count": null,
   "metadata": {},
   "outputs": [],
   "source": [
    "m = [[1,2],[3,4]]\n",
    "n = deepcopy(m)\n",
    "\n",
    "lista = []\n",
    "lista.append(n)\n",
    "m[0][0] = 7\n"
   ]
  },
  {
   "cell_type": "code",
   "execution_count": null,
   "metadata": {},
   "outputs": [],
   "source": [
    "n = deepcopy(m)\n",
    "lista.append(n)\n",
    "\n",
    "n[1][1] = 8"
   ]
  },
  {
   "cell_type": "code",
   "execution_count": null,
   "metadata": {},
   "outputs": [],
   "source": [
    "from copy import deepcopy"
   ]
  },
  {
   "cell_type": "code",
   "execution_count": null,
   "metadata": {},
   "outputs": [],
   "source": [
    "lista"
   ]
  },
  {
   "cell_type": "code",
   "execution_count": null,
   "metadata": {},
   "outputs": [],
   "source": [
    "def bits(n):\n",
    "    bits = [] \n",
    "    while n > 0:\n",
    "        r = n%2\n",
    "        n = n//2\n",
    "        bits.append(r)\n",
    "    return bits\n"
   ]
  },
  {
   "cell_type": "code",
   "execution_count": null,
   "metadata": {},
   "outputs": [],
   "source": [
    "bits(16)"
   ]
  },
  {
   "cell_type": "code",
   "execution_count": null,
   "metadata": {},
   "outputs": [],
   "source": [
    "def soma_bits(a,b, n ):\n",
    "    r = a+b\n",
    "    for i in range(n-1):\n",
    "        if r[i] == 2:\n",
    "            r[i] = 0\n",
    "            r[i+1] +=1\n",
    "    return r"
   ]
  },
  {
   "cell_type": "code",
   "execution_count": null,
   "metadata": {},
   "outputs": [],
   "source": [
    "soma_bits(a,b,3)"
   ]
  },
  {
   "cell_type": "code",
   "execution_count": null,
   "metadata": {},
   "outputs": [],
   "source": [
    "a = np.array([1, 0, 1])\n",
    "b = np.array([1,0,1])"
   ]
  },
  {
   "cell_type": "code",
   "execution_count": null,
   "metadata": {},
   "outputs": [],
   "source": [
    "lista + list1"
   ]
  },
  {
   "cell_type": "code",
   "execution_count": null,
   "metadata": {},
   "outputs": [],
   "source": [
    "lista.pop(1)"
   ]
  },
  {
   "cell_type": "code",
   "execution_count": null,
   "metadata": {},
   "outputs": [],
   "source": [
    "lista"
   ]
  },
  {
   "cell_type": "code",
   "execution_count": null,
   "metadata": {},
   "outputs": [],
   "source": [
    "np.append(m, [2])"
   ]
  },
  {
   "cell_type": "code",
   "execution_count": null,
   "metadata": {},
   "outputs": [],
   "source": [
    "import numpy as np"
   ]
  },
  {
   "cell_type": "code",
   "execution_count": null,
   "metadata": {},
   "outputs": [],
   "source": [
    "m = np.zeros((3,3))"
   ]
  },
  {
   "cell_type": "code",
   "execution_count": null,
   "metadata": {},
   "outputs": [],
   "source": [
    "m"
   ]
  },
  {
   "cell_type": "code",
   "execution_count": null,
   "metadata": {},
   "outputs": [],
   "source": [
    "n"
   ]
  },
  {
   "cell_type": "code",
   "execution_count": null,
   "metadata": {},
   "outputs": [],
   "source": [
    "n[0][0] =1"
   ]
  },
  {
   "cell_type": "code",
   "execution_count": null,
   "metadata": {},
   "outputs": [],
   "source": [
    "n = m.copy()"
   ]
  },
  {
   "cell_type": "code",
   "execution_count": null,
   "metadata": {},
   "outputs": [],
   "source": [
    "lista = [[0,2], [1,1]]"
   ]
  },
  {
   "cell_type": "code",
   "execution_count": null,
   "metadata": {},
   "outputs": [],
   "source": [
    "lista[0][1]"
   ]
  },
  {
   "cell_type": "code",
   "execution_count": null,
   "metadata": {},
   "outputs": [],
   "source": [
    "lista[:,2]"
   ]
  },
  {
   "cell_type": "code",
   "execution_count": null,
   "metadata": {},
   "outputs": [],
   "source": []
  }
 ],
 "metadata": {
  "interpreter": {
   "hash": "aee8b7b246df8f9039afb4144a1f6fd8d2ca17a180786b69acc140d282b71a49"
  },
  "kernelspec": {
   "display_name": "Python 3.7.2 64-bit",
   "language": "python",
   "name": "python3"
  },
  "language_info": {
   "codemirror_mode": {
    "name": "ipython",
    "version": 3
   },
   "file_extension": ".py",
   "mimetype": "text/x-python",
   "name": "python",
   "nbconvert_exporter": "python",
   "pygments_lexer": "ipython3",
   "version": "3.7.2"
  },
  "orig_nbformat": 4
 },
 "nbformat": 4,
 "nbformat_minor": 2
}
